{
 "cells": [
  {
   "cell_type": "markdown",
   "metadata": {},
   "source": [
    "<div style=\"border:solid blue 2px; padding: 20px\">\n",
    "<b> Reviewer Rules</b>\n",
    "\n",
    "Hi there ;) I will be using the following color boxes through the notebook code:\n",
    "    \n",
    "<div class=\"alert alert-success\" style=\"border-radius: 15px; box-shadow: 4px 4px 4px; border: 1px solid \">\n",
    "<b> Reviewer's comment</b>\n",
    "    \n",
    "Green means that it was nicely done.\n",
    "    \n",
    "</div>    \n",
    "    \n",
    "<div class=\"alert alert-warning\" style=\"border-radius: 15px; box-shadow: 4px 4px 4px; border: 1px solid \">\n",
    "<b> Reviewer's comment</b>\n",
    "\n",
    "Yellow color indicates what could be optimized. This is not necessary, but it will be great if you make changes to this project.\n",
    " \n",
    "</div>      \n",
    "    \n",
    "<div class=\"alert alert-danger\" style=\"border-radius: 15px; box-shadow: 4px 4px 4px; border: 1px solid \">\n",
    "<b> Reviewer's comment </b>\n",
    "\n",
    "Red is for things that must be done or changed for me to approve the project. If I rejected the project, you must look for this comments.\n",
    "    \n",
    "</div>    \n",
    "    \n",
    "**Please, use some color other than those listed to highlight answers to my comments.**\n",
    "I would also ask you **not to change, move or delete my comments** to make it easier for me to navigate during the next review."
   ]
  },
  {
   "cell_type": "markdown",
   "metadata": {},
   "source": [
    "<div style=\"border:solid blue 2px; padding: 20px\">\n",
    "\n",
    "**Overall Summary of the Project**\n",
    "\n",
    "Dear Jose,  \n",
    "\n",
    "I want to congratulate you on successfully completing this project! This was a challenging task that required a strong understanding of machine learning, linear algebra, and data security. Your submission demonstrates solid analytical thinking and technical skills. Let’s go through a detailed review of your work.  \n",
    "\n",
    "---\n",
    "\n",
    "<div style=\"border-left: 7px solid green; padding: 10px;\">\n",
    "<b>✅ Strengths:</b>\n",
    "<ul>\n",
    "  <li><b>Data Preprocessing:</b> Your approach to renaming columns, converting data types, and performing a detailed exploratory check of the dataset was well-structured and effective. Ensuring data consistency is a critical step in any ML pipeline.</li>\n",
    "  <li><b>Exploratory Data Analysis (EDA):</b> You provided a solid statistical overview of the data, checking for missing values, outliers, and class imbalances. The pair plots were a great touch, although interpreting them required additional steps.</li>\n",
    "  <li><b>Task 1 (Similar Customers):</b> The kNN implementation was well-executed, and I appreciate that you tested both Euclidean and Manhattan distance metrics with and without scaling. Your analysis of how scaling impacts kNN was insightful.</li>\n",
    "  <li><b>Task 2 (Classification):</b> Your evaluation of different kNN classifiers with varying values of k was excellent. The results showed the clear benefit of scaling, and your comparison against a random baseline was well-structured. Additionally, your class balancing strategies (undersampling and weighted kNN) demonstrated a strong understanding of handling imbalanced datasets.</li>\n",
    "  <li><b>Task 3 (Linear Regression):</b> Implementing linear regression from scratch using matrix operations was a strong demonstration of your understanding of linear algebra. Your interpretation of feature importance was insightful.</li>\n",
    "  <li><b>Task 4 (Data Obfuscation):</b> The obfuscation technique using an invertible matrix was well-implemented. You successfully proved both computationally and analytically that the transformation preserves model performance.</li>\n",
    "  <li><b>Documentation:</b> Your markdown explanations were well-organized, making it easy to follow the logic behind your decisions. The step-by-step explanations added clarity to your approach.</li>\n",
    "</ul>\n",
    "</div>\n",
    "\n",
    "<div style=\"border-left: 7px solid gold; padding: 10px;\">\n",
    "<b>⚠️ Areas for Improvement:</b>\n",
    "<ul>\n",
    "  <li><b>EDA Visualizations:</b> While you included pair plots, additional visualizations such as correlation matrices or scatter plots could provide deeper insights into feature relationships.</li>\n",
    "  <li><b>Task 1 (Customer Similarity):</b> You analyzed the impact of scaling well, but it would be interesting to see additional insights on how different feature combinations affect the kNN results.</li>\n",
    "  <li><b>Classification Model Interpretation:</b> Your F1 score analysis was strong, but adding a ROC curve and AUC score could provide further insights into model performance.</li>\n",
    "  <li><b>Regression Performance:</b> The R² score of 0.42 suggests that the model explains some variance but leaves room for improvement. Feature engineering (e.g., polynomial features or interaction terms) could be explored.</li>\n",
    "  <li><b>Data Obfuscation Discussion:</b> The obfuscation approach was technically correct, but a discussion on real-world implications (e.g., performance trade-offs, encryption alternatives) would add depth.</li>\n",
    "</ul>\n",
    "</div>\n",
    "\n",
    "<div style=\"border-left: 7px solid red; padding: 10px;\">\n",
    "<b>⛔️ Critical Changes Required:</b>\n",
    "<ul>\n",
    "  <li>Just a small thing, the data loading step insights is missing. Look for the red box and then I'll approve the project ;)</li>\n",
    "</ul>\n",
    "</div>\n",
    "\n",
    "---\n",
    "\n",
    "**Conclusion**  \n",
    "\n",
    "Jose, you have done an excellent job on this project! From preprocessing to modeling and data security, your work demonstrates a solid foundation in machine learning and data science best practices. Your kNN classification, linear regression, and data obfuscation sections were particularly strong.  \n",
    "\n",
    "</div>"
   ]
  },
  {
   "cell_type": "markdown",
   "metadata": {},
   "source": [
    "<div style=\"border:solid blue 2px; padding: 20px\">\n",
    "\n",
    "**Overall Summary of the Project Iter 2**\n",
    "\n",
    "Great work! Approved :)"
   ]
  },
  {
   "cell_type": "markdown",
   "metadata": {},
   "source": [
    "# Statement"
   ]
  },
  {
   "cell_type": "markdown",
   "metadata": {},
   "source": [
    "The Sure Tomorrow insurance company wants to solve several tasks with the help of Machine Learning and you are asked to evaluate that possibility.\n",
    "\n",
    "- Task 1: Find customers who are similar to a given customer. This will help the company's agents with marketing.\n",
    "- Task 2: Predict whether a new customer is likely to receive an insurance benefit. Can a prediction model do better than a dummy model?\n",
    "- Task 3: Predict the number of insurance benefits a new customer is likely to receive using a linear regression model.\n",
    "- Task 4: Protect clients' personal data without breaking the model from the previous task. It's necessary to develop a data transformation algorithm that would make it hard to recover personal information if the data fell into the wrong hands. This is called data masking, or data obfuscation. But the data should be protected in such a way that the quality of machine learning models doesn't suffer. You don't need to pick the best model, just prove that the algorithm works correctly."
   ]
  },
  {
   "cell_type": "markdown",
   "metadata": {},
   "source": [
    "<div class=\"alert alert-success\" style=\"border-radius: 15px; box-shadow: 4px 4px 4px; border: 1px solid \">\n",
    "<b>   Reviewer's comment </b>\n",
    "    \n",
    "Good introduction :)\n",
    "\n",
    "</div>"
   ]
  },
  {
   "cell_type": "markdown",
   "metadata": {},
   "source": [
    "# Data Preprocessing & Exploration\n",
    "\n",
    "## Initialization"
   ]
  },
  {
   "cell_type": "code",
   "execution_count": 1,
   "metadata": {},
   "outputs": [],
   "source": [
    "import numpy as np\n",
    "import pandas as pd\n",
    "import seaborn as sns\n",
    "import matplotlib.pyplot as plt\n",
    "import math\n",
    "import sklearn.linear_model\n",
    "import sklearn.metrics\n",
    "import sklearn.neighbors\n",
    "import sklearn.preprocessing\n",
    "from sklearn.preprocessing import PolynomialFeatures\n",
    "from sklearn.metrics import roc_curve, auc, precision_recall_curve\n",
    "from sklearn.utils import resample\n",
    "from sklearn.model_selection import train_test_split\n",
    "from IPython.display import display\n",
    "from collections import Counter\n",
    "\n",
    "import warnings\n",
    "warnings.filterwarnings('ignore')"
   ]
  },
  {
   "cell_type": "markdown",
   "metadata": {},
   "source": [
    "## Load Data and EDA"
   ]
  },
  {
   "cell_type": "markdown",
   "metadata": {},
   "source": [
    "Load data and conduct a basic check that it's free from obvious issues."
   ]
  },
  {
   "cell_type": "code",
   "execution_count": 2,
   "metadata": {},
   "outputs": [
    {
     "data": {
      "text/html": [
       "<div>\n",
       "<style scoped>\n",
       "    .dataframe tbody tr th:only-of-type {\n",
       "        vertical-align: middle;\n",
       "    }\n",
       "\n",
       "    .dataframe tbody tr th {\n",
       "        vertical-align: top;\n",
       "    }\n",
       "\n",
       "    .dataframe thead th {\n",
       "        text-align: right;\n",
       "    }\n",
       "</style>\n",
       "<table border=\"1\" class=\"dataframe\">\n",
       "  <thead>\n",
       "    <tr style=\"text-align: right;\">\n",
       "      <th></th>\n",
       "      <th>Gender</th>\n",
       "      <th>Age</th>\n",
       "      <th>Salary</th>\n",
       "      <th>Family members</th>\n",
       "      <th>Insurance benefits</th>\n",
       "    </tr>\n",
       "  </thead>\n",
       "  <tbody>\n",
       "    <tr>\n",
       "      <th>0</th>\n",
       "      <td>1</td>\n",
       "      <td>41.0</td>\n",
       "      <td>49600.0</td>\n",
       "      <td>1</td>\n",
       "      <td>0</td>\n",
       "    </tr>\n",
       "    <tr>\n",
       "      <th>1</th>\n",
       "      <td>0</td>\n",
       "      <td>46.0</td>\n",
       "      <td>38000.0</td>\n",
       "      <td>1</td>\n",
       "      <td>1</td>\n",
       "    </tr>\n",
       "    <tr>\n",
       "      <th>2</th>\n",
       "      <td>0</td>\n",
       "      <td>29.0</td>\n",
       "      <td>21000.0</td>\n",
       "      <td>0</td>\n",
       "      <td>0</td>\n",
       "    </tr>\n",
       "    <tr>\n",
       "      <th>3</th>\n",
       "      <td>0</td>\n",
       "      <td>21.0</td>\n",
       "      <td>41700.0</td>\n",
       "      <td>2</td>\n",
       "      <td>0</td>\n",
       "    </tr>\n",
       "    <tr>\n",
       "      <th>4</th>\n",
       "      <td>1</td>\n",
       "      <td>28.0</td>\n",
       "      <td>26100.0</td>\n",
       "      <td>0</td>\n",
       "      <td>0</td>\n",
       "    </tr>\n",
       "  </tbody>\n",
       "</table>\n",
       "</div>"
      ],
      "text/plain": [
       "   Gender   Age   Salary  Family members  Insurance benefits\n",
       "0       1  41.0  49600.0               1                   0\n",
       "1       0  46.0  38000.0               1                   1\n",
       "2       0  29.0  21000.0               0                   0\n",
       "3       0  21.0  41700.0               2                   0\n",
       "4       1  28.0  26100.0               0                   0"
      ]
     },
     "metadata": {},
     "output_type": "display_data"
    }
   ],
   "source": [
    "df = pd.read_csv('/datasets/insurance_us.csv')\n",
    "display(df.head())"
   ]
  },
  {
   "cell_type": "markdown",
   "metadata": {},
   "source": [
    "We rename the colums to make the code look more consistent with style conventions."
   ]
  },
  {
   "cell_type": "code",
   "execution_count": 3,
   "metadata": {},
   "outputs": [],
   "source": [
    "df = df.rename(columns={'Gender': 'gender', 'Age': 'age', 'Salary': 'income', 'Family members': 'family_members', 'Insurance benefits': 'insurance_benefits'})"
   ]
  },
  {
   "cell_type": "code",
   "execution_count": 4,
   "metadata": {},
   "outputs": [
    {
     "data": {
      "text/html": [
       "<div>\n",
       "<style scoped>\n",
       "    .dataframe tbody tr th:only-of-type {\n",
       "        vertical-align: middle;\n",
       "    }\n",
       "\n",
       "    .dataframe tbody tr th {\n",
       "        vertical-align: top;\n",
       "    }\n",
       "\n",
       "    .dataframe thead th {\n",
       "        text-align: right;\n",
       "    }\n",
       "</style>\n",
       "<table border=\"1\" class=\"dataframe\">\n",
       "  <thead>\n",
       "    <tr style=\"text-align: right;\">\n",
       "      <th></th>\n",
       "      <th>gender</th>\n",
       "      <th>age</th>\n",
       "      <th>income</th>\n",
       "      <th>family_members</th>\n",
       "      <th>insurance_benefits</th>\n",
       "    </tr>\n",
       "  </thead>\n",
       "  <tbody>\n",
       "    <tr>\n",
       "      <th>1465</th>\n",
       "      <td>0</td>\n",
       "      <td>21.0</td>\n",
       "      <td>50500.0</td>\n",
       "      <td>2</td>\n",
       "      <td>0</td>\n",
       "    </tr>\n",
       "    <tr>\n",
       "      <th>2122</th>\n",
       "      <td>0</td>\n",
       "      <td>18.0</td>\n",
       "      <td>45800.0</td>\n",
       "      <td>0</td>\n",
       "      <td>0</td>\n",
       "    </tr>\n",
       "    <tr>\n",
       "      <th>2420</th>\n",
       "      <td>1</td>\n",
       "      <td>28.0</td>\n",
       "      <td>41800.0</td>\n",
       "      <td>2</td>\n",
       "      <td>0</td>\n",
       "    </tr>\n",
       "    <tr>\n",
       "      <th>352</th>\n",
       "      <td>0</td>\n",
       "      <td>31.0</td>\n",
       "      <td>32900.0</td>\n",
       "      <td>1</td>\n",
       "      <td>0</td>\n",
       "    </tr>\n",
       "    <tr>\n",
       "      <th>3485</th>\n",
       "      <td>1</td>\n",
       "      <td>56.0</td>\n",
       "      <td>22700.0</td>\n",
       "      <td>2</td>\n",
       "      <td>3</td>\n",
       "    </tr>\n",
       "    <tr>\n",
       "      <th>2257</th>\n",
       "      <td>0</td>\n",
       "      <td>20.0</td>\n",
       "      <td>30000.0</td>\n",
       "      <td>1</td>\n",
       "      <td>0</td>\n",
       "    </tr>\n",
       "    <tr>\n",
       "      <th>1771</th>\n",
       "      <td>1</td>\n",
       "      <td>38.0</td>\n",
       "      <td>20900.0</td>\n",
       "      <td>2</td>\n",
       "      <td>0</td>\n",
       "    </tr>\n",
       "    <tr>\n",
       "      <th>1375</th>\n",
       "      <td>0</td>\n",
       "      <td>21.0</td>\n",
       "      <td>43800.0</td>\n",
       "      <td>3</td>\n",
       "      <td>0</td>\n",
       "    </tr>\n",
       "    <tr>\n",
       "      <th>1491</th>\n",
       "      <td>0</td>\n",
       "      <td>31.0</td>\n",
       "      <td>55200.0</td>\n",
       "      <td>0</td>\n",
       "      <td>0</td>\n",
       "    </tr>\n",
       "    <tr>\n",
       "      <th>1293</th>\n",
       "      <td>0</td>\n",
       "      <td>24.0</td>\n",
       "      <td>26300.0</td>\n",
       "      <td>3</td>\n",
       "      <td>0</td>\n",
       "    </tr>\n",
       "  </tbody>\n",
       "</table>\n",
       "</div>"
      ],
      "text/plain": [
       "      gender   age   income  family_members  insurance_benefits\n",
       "1465       0  21.0  50500.0               2                   0\n",
       "2122       0  18.0  45800.0               0                   0\n",
       "2420       1  28.0  41800.0               2                   0\n",
       "352        0  31.0  32900.0               1                   0\n",
       "3485       1  56.0  22700.0               2                   3\n",
       "2257       0  20.0  30000.0               1                   0\n",
       "1771       1  38.0  20900.0               2                   0\n",
       "1375       0  21.0  43800.0               3                   0\n",
       "1491       0  31.0  55200.0               0                   0\n",
       "1293       0  24.0  26300.0               3                   0"
      ]
     },
     "metadata": {},
     "output_type": "display_data"
    },
    {
     "name": "stdout",
     "output_type": "stream",
     "text": [
      "<class 'pandas.core.frame.DataFrame'>\n",
      "RangeIndex: 5000 entries, 0 to 4999\n",
      "Data columns (total 5 columns):\n",
      " #   Column              Non-Null Count  Dtype  \n",
      "---  ------              --------------  -----  \n",
      " 0   gender              5000 non-null   int64  \n",
      " 1   age                 5000 non-null   float64\n",
      " 2   income              5000 non-null   float64\n",
      " 3   family_members      5000 non-null   int64  \n",
      " 4   insurance_benefits  5000 non-null   int64  \n",
      "dtypes: float64(2), int64(3)\n",
      "memory usage: 195.4 KB\n"
     ]
    }
   ],
   "source": [
    "display(df.sample(10))\n",
    "df.info()"
   ]
  },
  {
   "cell_type": "code",
   "execution_count": 5,
   "metadata": {},
   "outputs": [],
   "source": [
    "# we may want to fix the age type (from float to int) though this is not critical\n",
    "# Convert age from float to int\n",
    "df['age'] = df['age'].astype('int32')"
   ]
  },
  {
   "cell_type": "code",
   "execution_count": 6,
   "metadata": {},
   "outputs": [
    {
     "data": {
      "text/html": [
       "<div>\n",
       "<style scoped>\n",
       "    .dataframe tbody tr th:only-of-type {\n",
       "        vertical-align: middle;\n",
       "    }\n",
       "\n",
       "    .dataframe tbody tr th {\n",
       "        vertical-align: top;\n",
       "    }\n",
       "\n",
       "    .dataframe thead th {\n",
       "        text-align: right;\n",
       "    }\n",
       "</style>\n",
       "<table border=\"1\" class=\"dataframe\">\n",
       "  <thead>\n",
       "    <tr style=\"text-align: right;\">\n",
       "      <th></th>\n",
       "      <th>gender</th>\n",
       "      <th>age</th>\n",
       "      <th>income</th>\n",
       "      <th>family_members</th>\n",
       "      <th>insurance_benefits</th>\n",
       "    </tr>\n",
       "  </thead>\n",
       "  <tbody>\n",
       "    <tr>\n",
       "      <th>4811</th>\n",
       "      <td>0</td>\n",
       "      <td>19</td>\n",
       "      <td>36300.0</td>\n",
       "      <td>3</td>\n",
       "      <td>0</td>\n",
       "    </tr>\n",
       "    <tr>\n",
       "      <th>449</th>\n",
       "      <td>0</td>\n",
       "      <td>38</td>\n",
       "      <td>38800.0</td>\n",
       "      <td>0</td>\n",
       "      <td>0</td>\n",
       "    </tr>\n",
       "    <tr>\n",
       "      <th>2229</th>\n",
       "      <td>1</td>\n",
       "      <td>21</td>\n",
       "      <td>23500.0</td>\n",
       "      <td>0</td>\n",
       "      <td>0</td>\n",
       "    </tr>\n",
       "    <tr>\n",
       "      <th>2950</th>\n",
       "      <td>0</td>\n",
       "      <td>34</td>\n",
       "      <td>33400.0</td>\n",
       "      <td>1</td>\n",
       "      <td>0</td>\n",
       "    </tr>\n",
       "    <tr>\n",
       "      <th>3145</th>\n",
       "      <td>0</td>\n",
       "      <td>26</td>\n",
       "      <td>40700.0</td>\n",
       "      <td>4</td>\n",
       "      <td>0</td>\n",
       "    </tr>\n",
       "  </tbody>\n",
       "</table>\n",
       "</div>"
      ],
      "text/plain": [
       "      gender  age   income  family_members  insurance_benefits\n",
       "4811       0   19  36300.0               3                   0\n",
       "449        0   38  38800.0               0                   0\n",
       "2229       1   21  23500.0               0                   0\n",
       "2950       0   34  33400.0               1                   0\n",
       "3145       0   26  40700.0               4                   0"
      ]
     },
     "metadata": {},
     "output_type": "display_data"
    }
   ],
   "source": [
    "# check to see that the conversion was successful\n",
    "display(df.sample(5))"
   ]
  },
  {
   "cell_type": "code",
   "execution_count": 7,
   "metadata": {},
   "outputs": [
    {
     "name": "stdout",
     "output_type": "stream",
     "text": [
      "Descriptive Statistics:\n",
      "            gender          age        income  family_members  \\\n",
      "count  5000.000000  5000.000000   5000.000000     5000.000000   \n",
      "mean      0.499000    30.952800  39916.360000        1.194200   \n",
      "std       0.500049     8.440807   9900.083569        1.091387   \n",
      "min       0.000000    18.000000   5300.000000        0.000000   \n",
      "25%       0.000000    24.000000  33300.000000        0.000000   \n",
      "50%       0.000000    30.000000  40200.000000        1.000000   \n",
      "75%       1.000000    37.000000  46600.000000        2.000000   \n",
      "max       1.000000    65.000000  79000.000000        6.000000   \n",
      "\n",
      "       insurance_benefits  \n",
      "count         5000.000000  \n",
      "mean             0.148000  \n",
      "std              0.463183  \n",
      "min              0.000000  \n",
      "25%              0.000000  \n",
      "50%              0.000000  \n",
      "75%              0.000000  \n",
      "max              5.000000  \n",
      "\n",
      "Checking for missing values:\n",
      "gender                0\n",
      "age                   0\n",
      "income                0\n",
      "family_members        0\n",
      "insurance_benefits    0\n",
      "dtype: int64\n",
      "\n",
      "Value counts for categorical variables:\n",
      "\n",
      "Gender value counts:\n",
      "0    2505\n",
      "1    2495\n",
      "Name: gender, dtype: int64\n",
      "\n",
      "Family members value counts:\n",
      "1    1814\n",
      "0    1513\n",
      "2    1071\n",
      "3     439\n",
      "4     124\n",
      "5      32\n",
      "6       7\n",
      "Name: family_members, dtype: int64\n",
      "\n",
      "Insurance benefits value counts:\n",
      "0    4436\n",
      "1     423\n",
      "2     115\n",
      "3      18\n",
      "4       7\n",
      "Name: insurance_benefits, dtype: int64\n"
     ]
    }
   ],
   "source": [
    "# now have a look at the data's descriptive statistics. \n",
    "# Does everything look okay?\n",
    "# Let's look at descriptive statistics\n",
    "print(\"Descriptive Statistics:\")\n",
    "print(df.describe())\n",
    "\n",
    "print(\"\\nChecking for missing values:\")\n",
    "print(df.isnull().sum())\n",
    "\n",
    "# Let's also look at value ranges and distributions for each column\n",
    "print(\"\\nValue counts for categorical variables:\")\n",
    "print(\"\\nGender value counts:\")\n",
    "print(df['gender'].value_counts())\n",
    "\n",
    "print(\"\\nFamily members value counts:\")\n",
    "print(df['family_members'].value_counts())\n",
    "\n",
    "print(\"\\nInsurance benefits value counts:\")\n",
    "print(df['insurance_benefits'].value_counts().head())"
   ]
  },
  {
   "cell_type": "code",
   "execution_count": 8,
   "metadata": {},
   "outputs": [
    {
     "name": "stdout",
     "output_type": "stream",
     "text": [
      "\n",
      "Checking for anomalies:\n",
      "\n",
      "Age range: 18 to 65\n",
      "Income range: 5300.0 to 79000.0\n",
      "Family members range: 0 to 6\n",
      "Insurance benefits range: 0 to 5\n"
     ]
    }
   ],
   "source": [
    "# Check for potentially problematic values\n",
    "print(\"\\nChecking for anomalies:\")\n",
    "print(\"\\nAge range:\", df['age'].min(), \"to\", df['age'].max())\n",
    "print(\"Income range:\", df['income'].min(), \"to\", df['income'].max())\n",
    "print(\"Family members range:\", df['family_members'].min(), \"to\", df['family_members'].max())\n",
    "print(\"Insurance benefits range:\", df['insurance_benefits'].min(), \"to\", df['insurance_benefits'].max())"
   ]
  },
  {
   "cell_type": "code",
   "execution_count": 9,
   "metadata": {
    "scrolled": true
   },
   "outputs": [
    {
     "data": {
      "image/png": "[encoded data removed]",
      "text/plain": [
       "<Figure size 1200x1200 with 30 Axes>"
      ]
     },
     "metadata": {},
     "output_type": "display_data"
    }
   ],
   "source": [
    "g = sns.pairplot(df, kind='hist')\n",
    "g.fig.set_size_inches(12, 12)"
   ]
  },
  {
   "cell_type": "markdown",
   "metadata": {},
   "source": [
    "Looking at the pair plots, it is difficult to spot certain groups of customers (clusters), as it is difficult to combine several variables simultaneously (to analyze multivariate distributions).\n",
    "\n",
    "We can create a Matrix Heatmap to see variable correlation, and create individual Scatterplots to compare specific features with the target variable."
   ]
  },
  {
   "cell_type": "code",
   "execution_count": 10,
   "metadata": {},
   "outputs": [
    {
     "data": {
      "image/png": "[encoded data removed]",
      "text/plain": [
       "<Figure size 1000x800 with 2 Axes>"
      ]
     },
     "metadata": {},
     "output_type": "display_data"
    },
    {
     "data": {
      "image/png": "[encoded data removed]",
      "text/plain": [
       "<Figure size 1500x500 with 3 Axes>"
      ]
     },
     "metadata": {},
     "output_type": "display_data"
    }
   ],
   "source": [
    "# Create correlation matrix heatmap\n",
    "plt.figure(figsize=(10, 8))\n",
    "correlation_matrix = df[['gender', 'age', 'income', 'family_members', 'insurance_benefits']].corr()\n",
    "sns.heatmap(correlation_matrix, \n",
    "            annot=True,           # Show correlation values\n",
    "            cmap='coolwarm',      # Color scheme\n",
    "            center=0,             # Center the colormap at 0\n",
    "            fmt='.2f',           # Format numbers to 2 decimal places\n",
    "            square=True)          # Make the plot square\n",
    "plt.title('Correlation Matrix of Features')\n",
    "plt.tight_layout()\n",
    "plt.show()\n",
    "\n",
    "# Create scatter plots for key feature relationships\n",
    "plt.figure(figsize=(15, 5))\n",
    "\n",
    "# Age vs Insurance Benefits\n",
    "plt.subplot(1, 3, 1)\n",
    "sns.scatterplot(data=df, x='age', y='insurance_benefits', alpha=0.5)\n",
    "plt.title('Age vs Insurance Benefits')\n",
    "\n",
    "# Income vs Insurance Benefits\n",
    "plt.subplot(1, 3, 2)\n",
    "sns.scatterplot(data=df, x='income', y='insurance_benefits', alpha=0.5)\n",
    "plt.title('Income vs Insurance Benefits')\n",
    "\n",
    "# Family Members vs Insurance Benefits\n",
    "plt.subplot(1, 3, 3)\n",
    "sns.scatterplot(data=df, x='family_members', y='insurance_benefits', alpha=0.5)\n",
    "plt.title('Family Members vs Insurance Benefits')\n",
    "\n",
    "plt.tight_layout()\n",
    "plt.show()"
   ]
  },
  {
   "cell_type": "markdown",
   "metadata": {},
   "source": [
    "### Additional Visualization Insights:\n",
    "\n",
    "1. Correlation Analysis:\n",
    "   - Age shows the strongest positive correlation with insurance benefits (0.28)\n",
    "   - Income has a slight negative correlation with benefits (-0.03)\n",
    "   - Family members shows minimal correlation with benefits (0.01)\n",
    "   - Gender has very weak correlations with all other features\n",
    "   - No strong correlations between features, suggesting minimal multicollinearity\n",
    "\n",
    "2. Scatter Plot Patterns:\n",
    "   - Age shows a clear trend: older customers are more likely to receive higher benefits\n",
    "   - Income relationship appears more complex, with benefits distributed across income levels\n",
    "   - Family members show no clear linear pattern with benefits\n",
    "   - Most benefit values are concentrated at lower levels, with some outliers receiving higher benefits"
   ]
  },
  {
   "cell_type": "markdown",
   "metadata": {},
   "source": [
    "<div class=\"alert alert-danger\" style=\"border-radius: 15px; box-shadow: 4px 4px 4px; border: 1px solid \">\n",
    "<b>   Reviewer's comment </b>\n",
    "    \n",
    "Great job, but remember to add a summary of your findings at the end of each step ;)\n",
    "\n",
    "</div>"
   ]
  },
  {
   "cell_type": "markdown",
   "metadata": {},
   "source": [
    "<div class=\"alert alert-success\" style=\"border-radius: 15px; box-shadow: 4px 4px 4px; border: 1px solid \">\n",
    "<b>   Reviewer's comment Iter 2</b>\n",
    "    \n",
    "Nice middle conclusion ;)\n",
    "\n",
    "</div>"
   ]
  },
  {
   "cell_type": "markdown",
   "metadata": {},
   "source": [
    "### Data Loading and EDA Summary:\n",
    "\n",
    "After examining the data, here are the key findings:\n",
    "\n",
    "1. Dataset Structure:<br>\n",
    "    - 5000 entries with 5 columns\n",
    "    - No missing values in any columns\n",
    "    - All features have appropriate data types\n",
    "\n",
    "2. Feature Distributions:\n",
    "    - Gender: Almost perfectly balanced (49.9% male, 50.1% female)\n",
    "    - Age: Ranges from 18 to 65 years, with mean around 31 years\n",
    "    - Income: Ranges from 5,300 to 79,000, with mean around 39,916\n",
    "    - Family members: Ranges from 0 to 6, with most people having 1 or 0 family members\n",
    "\n",
    "3. Target Variable (Insurance Benefits):\n",
    "   - Highly imbalanced: 85.2% of clients received no benefits\n",
    "   - Only 14.8% of clients received any benefits\n",
    "   - Maximum number of benefits received by any client is 5\n",
    "\n",
    "4. Data Quality:\n",
    "\n",
    "   - All values are within reasonable ranges\n",
    "   - No obvious anomalies or outliers detected\n",
    "   - Data is ready for modeling without extensive cleaning needed"
   ]
  },
  {
   "cell_type": "markdown",
   "metadata": {},
   "source": [
    "<div class=\"alert alert-success\" style=\"border-radius: 15px; box-shadow: 4px 4px 4px; border: 1px solid \">\n",
    "<b>   Reviewer's comment </b>\n",
    "    \n",
    "Good job\n",
    "    \n",
    "</div>"
   ]
  },
  {
   "cell_type": "markdown",
   "metadata": {},
   "source": [
    "# Task 1. Similar Customers"
   ]
  },
  {
   "cell_type": "markdown",
   "metadata": {},
   "source": [
    "In the language of ML, it is necessary to develop a procedure that returns k nearest neighbors (objects) for a given object based on the distance between the objects.\n",
    "\n",
    "You may want to review the following lessons (chapter -> lesson)\n",
    "- Distance Between Vectors -> Euclidean Distance\n",
    "- Distance Between Vectors -> Manhattan Distance\n",
    "\n",
    "To solve the task, we can try different distance metrics."
   ]
  },
  {
   "cell_type": "markdown",
   "metadata": {},
   "source": [
    "Write a function that returns k nearest neighbors for an $n^{th}$ object based on a specified distance metric. The number of received insurance benefits should not be taken into account for this task. \n",
    "\n",
    "You can use a ready implementation of the kNN algorithm from scikit-learn (check [the link](https://scikit-learn.org/stable/modules/generated/sklearn.neighbors.NearestNeighbors.html#sklearn.neighbors.NearestNeighbors)) or use your own.\n",
    "\n",
    "Test it for four combination of two cases\n",
    "- Scaling\n",
    "  - the data is not scaled\n",
    "  - the data is scaled with the [MaxAbsScaler](https://scikit-learn.org/stable/modules/generated/sklearn.preprocessing.MaxAbsScaler.html) scaler\n",
    "- Distance Metrics\n",
    "  - Euclidean\n",
    "  - Manhattan\n",
    "\n",
    "Answer these questions:\n",
    "- Does the data being not scaled affect the kNN algorithm? If so, how does that appear?\n",
    "- How similar are the results using the Manhattan distance metric (regardless of the scaling)?"
   ]
  },
  {
   "cell_type": "code",
   "execution_count": 11,
   "metadata": {},
   "outputs": [],
   "source": [
    "# First define the feature names and scale the data\n",
    "feature_names = ['gender', 'age', 'income', 'family_members']"
   ]
  },
  {
   "cell_type": "code",
   "execution_count": 12,
   "metadata": {},
   "outputs": [],
   "source": [
    "# Define the kNN function\n",
    "def get_knn(df, n, k, metric):\n",
    "    \"\"\"\n",
    "    Returns k nearest neighbors\n",
    "    :param df: pandas DataFrame used to find similar objects within\n",
    "    :param n: object no for which the nearest neighbours are looked for\n",
    "    :param k: the number of the nearest neighbours to return\n",
    "    :param metric: name of distance metric\n",
    "    \"\"\"\n",
    "    nbrs = sklearn.neighbors.NearestNeighbors(\n",
    "        n_neighbors=k,\n",
    "        metric=metric,\n",
    "        algorithm='auto'\n",
    "    ).fit(df[feature_names])\n",
    "    \n",
    "    #Convert to DataFrame with feature names to avoid the warning\n",
    "    query_point = pd.DataFrame([df.iloc[n][feature_names]], columns=feature_names)\n",
    "    nbrs_distances, nbrs_indices = nbrs.kneighbors(query_point, k, return_distance=True)\n",
    "    \n",
    "    \n",
    "    df_res = pd.concat([\n",
    "        df.iloc[nbrs_indices[0]], \n",
    "        pd.DataFrame(nbrs_distances.T, index=nbrs_indices[0], columns=['distance'])\n",
    "        ], axis=1)\n",
    "    \n",
    "    return df_res"
   ]
  },
  {
   "cell_type": "markdown",
   "metadata": {},
   "source": [
    "<div class=\"alert alert-success\" style=\"border-radius: 15px; box-shadow: 4px 4px 4px; border: 1px solid \">\n",
    "<b>   Reviewer's comment </b>\n",
    "    \n",
    "Correct\n",
    "    \n",
    "</div>"
   ]
  },
  {
   "cell_type": "markdown",
   "metadata": {},
   "source": [
    "Scaling the data."
   ]
  },
  {
   "cell_type": "code",
   "execution_count": 13,
   "metadata": {},
   "outputs": [],
   "source": [
    "# Create scaled version of the data\n",
    "transformer_mas = sklearn.preprocessing.MaxAbsScaler().fit(df[feature_names].to_numpy())\n",
    "df_scaled = df.copy()\n",
    "df_scaled.loc[:, feature_names] = transformer_mas.transform(df[feature_names].to_numpy())"
   ]
  },
  {
   "cell_type": "code",
   "execution_count": 14,
   "metadata": {},
   "outputs": [
    {
     "data": {
      "text/html": [
       "<div>\n",
       "<style scoped>\n",
       "    .dataframe tbody tr th:only-of-type {\n",
       "        vertical-align: middle;\n",
       "    }\n",
       "\n",
       "    .dataframe tbody tr th {\n",
       "        vertical-align: top;\n",
       "    }\n",
       "\n",
       "    .dataframe thead th {\n",
       "        text-align: right;\n",
       "    }\n",
       "</style>\n",
       "<table border=\"1\" class=\"dataframe\">\n",
       "  <thead>\n",
       "    <tr style=\"text-align: right;\">\n",
       "      <th></th>\n",
       "      <th>gender</th>\n",
       "      <th>age</th>\n",
       "      <th>income</th>\n",
       "      <th>family_members</th>\n",
       "      <th>insurance_benefits</th>\n",
       "    </tr>\n",
       "  </thead>\n",
       "  <tbody>\n",
       "    <tr>\n",
       "      <th>961</th>\n",
       "      <td>0.0</td>\n",
       "      <td>0.323077</td>\n",
       "      <td>0.531646</td>\n",
       "      <td>0.166667</td>\n",
       "      <td>0</td>\n",
       "    </tr>\n",
       "    <tr>\n",
       "      <th>3823</th>\n",
       "      <td>1.0</td>\n",
       "      <td>0.430769</td>\n",
       "      <td>0.391139</td>\n",
       "      <td>0.166667</td>\n",
       "      <td>0</td>\n",
       "    </tr>\n",
       "    <tr>\n",
       "      <th>4922</th>\n",
       "      <td>1.0</td>\n",
       "      <td>0.353846</td>\n",
       "      <td>0.522785</td>\n",
       "      <td>0.333333</td>\n",
       "      <td>0</td>\n",
       "    </tr>\n",
       "    <tr>\n",
       "      <th>4713</th>\n",
       "      <td>0.0</td>\n",
       "      <td>0.476923</td>\n",
       "      <td>0.424051</td>\n",
       "      <td>0.166667</td>\n",
       "      <td>0</td>\n",
       "    </tr>\n",
       "    <tr>\n",
       "      <th>4471</th>\n",
       "      <td>0.0</td>\n",
       "      <td>0.384615</td>\n",
       "      <td>0.465823</td>\n",
       "      <td>0.000000</td>\n",
       "      <td>0</td>\n",
       "    </tr>\n",
       "  </tbody>\n",
       "</table>\n",
       "</div>"
      ],
      "text/plain": [
       "      gender       age    income  family_members  insurance_benefits\n",
       "961      0.0  0.323077  0.531646        0.166667                   0\n",
       "3823     1.0  0.430769  0.391139        0.166667                   0\n",
       "4922     1.0  0.353846  0.522785        0.333333                   0\n",
       "4713     0.0  0.476923  0.424051        0.166667                   0\n",
       "4471     0.0  0.384615  0.465823        0.000000                   0"
      ]
     },
     "execution_count": 14,
     "metadata": {},
     "output_type": "execute_result"
    }
   ],
   "source": [
    "df_scaled.sample(5)"
   ]
  },
  {
   "cell_type": "markdown",
   "metadata": {},
   "source": [
    "<div class=\"alert alert-success\" style=\"border-radius: 15px; box-shadow: 4px 4px 4px; border: 1px solid \">\n",
    "<b>   Reviewer's comment </b>\n",
    "    \n",
    "Well done :)\n",
    "    \n",
    "</div>"
   ]
  },
  {
   "cell_type": "markdown",
   "metadata": {},
   "source": [
    "Now, let's get similar records for a given one for every combination"
   ]
  },
  {
   "cell_type": "code",
   "execution_count": 15,
   "metadata": {
    "scrolled": false
   },
   "outputs": [
    {
     "name": "stdout",
     "output_type": "stream",
     "text": [
      "Original customer (n=0):\n",
      "gender                1.0\n",
      "age                  41.0\n",
      "income            49600.0\n",
      "family_members        1.0\n",
      "Name: 0, dtype: float64\n",
      "\n",
      "Unscaled Data - Euclidean Distance:\n"
     ]
    },
    {
     "data": {
      "text/html": [
       "<div>\n",
       "<style scoped>\n",
       "    .dataframe tbody tr th:only-of-type {\n",
       "        vertical-align: middle;\n",
       "    }\n",
       "\n",
       "    .dataframe tbody tr th {\n",
       "        vertical-align: top;\n",
       "    }\n",
       "\n",
       "    .dataframe thead th {\n",
       "        text-align: right;\n",
       "    }\n",
       "</style>\n",
       "<table border=\"1\" class=\"dataframe\">\n",
       "  <thead>\n",
       "    <tr style=\"text-align: right;\">\n",
       "      <th></th>\n",
       "      <th>gender</th>\n",
       "      <th>age</th>\n",
       "      <th>income</th>\n",
       "      <th>family_members</th>\n",
       "      <th>insurance_benefits</th>\n",
       "      <th>distance</th>\n",
       "    </tr>\n",
       "  </thead>\n",
       "  <tbody>\n",
       "    <tr>\n",
       "      <th>0</th>\n",
       "      <td>1</td>\n",
       "      <td>41</td>\n",
       "      <td>49600.0</td>\n",
       "      <td>1</td>\n",
       "      <td>0</td>\n",
       "      <td>0.000000</td>\n",
       "    </tr>\n",
       "    <tr>\n",
       "      <th>2022</th>\n",
       "      <td>1</td>\n",
       "      <td>41</td>\n",
       "      <td>49600.0</td>\n",
       "      <td>0</td>\n",
       "      <td>0</td>\n",
       "      <td>1.000000</td>\n",
       "    </tr>\n",
       "    <tr>\n",
       "      <th>1225</th>\n",
       "      <td>0</td>\n",
       "      <td>42</td>\n",
       "      <td>49600.0</td>\n",
       "      <td>0</td>\n",
       "      <td>1</td>\n",
       "      <td>1.732051</td>\n",
       "    </tr>\n",
       "    <tr>\n",
       "      <th>4031</th>\n",
       "      <td>1</td>\n",
       "      <td>44</td>\n",
       "      <td>49600.0</td>\n",
       "      <td>2</td>\n",
       "      <td>1</td>\n",
       "      <td>3.162278</td>\n",
       "    </tr>\n",
       "    <tr>\n",
       "      <th>3424</th>\n",
       "      <td>0</td>\n",
       "      <td>38</td>\n",
       "      <td>49600.0</td>\n",
       "      <td>0</td>\n",
       "      <td>0</td>\n",
       "      <td>3.316625</td>\n",
       "    </tr>\n",
       "  </tbody>\n",
       "</table>\n",
       "</div>"
      ],
      "text/plain": [
       "      gender  age   income  family_members  insurance_benefits  distance\n",
       "0          1   41  49600.0               1                   0  0.000000\n",
       "2022       1   41  49600.0               0                   0  1.000000\n",
       "1225       0   42  49600.0               0                   1  1.732051\n",
       "4031       1   44  49600.0               2                   1  3.162278\n",
       "3424       0   38  49600.0               0                   0  3.316625"
      ]
     },
     "metadata": {},
     "output_type": "display_data"
    },
    {
     "name": "stdout",
     "output_type": "stream",
     "text": [
      "\n",
      "Unscaled Data - Manhattan Distance:\n"
     ]
    },
    {
     "data": {
      "text/html": [
       "<div>\n",
       "<style scoped>\n",
       "    .dataframe tbody tr th:only-of-type {\n",
       "        vertical-align: middle;\n",
       "    }\n",
       "\n",
       "    .dataframe tbody tr th {\n",
       "        vertical-align: top;\n",
       "    }\n",
       "\n",
       "    .dataframe thead th {\n",
       "        text-align: right;\n",
       "    }\n",
       "</style>\n",
       "<table border=\"1\" class=\"dataframe\">\n",
       "  <thead>\n",
       "    <tr style=\"text-align: right;\">\n",
       "      <th></th>\n",
       "      <th>gender</th>\n",
       "      <th>age</th>\n",
       "      <th>income</th>\n",
       "      <th>family_members</th>\n",
       "      <th>insurance_benefits</th>\n",
       "      <th>distance</th>\n",
       "    </tr>\n",
       "  </thead>\n",
       "  <tbody>\n",
       "    <tr>\n",
       "      <th>0</th>\n",
       "      <td>1</td>\n",
       "      <td>41</td>\n",
       "      <td>49600.0</td>\n",
       "      <td>1</td>\n",
       "      <td>0</td>\n",
       "      <td>0.0</td>\n",
       "    </tr>\n",
       "    <tr>\n",
       "      <th>2022</th>\n",
       "      <td>1</td>\n",
       "      <td>41</td>\n",
       "      <td>49600.0</td>\n",
       "      <td>0</td>\n",
       "      <td>0</td>\n",
       "      <td>1.0</td>\n",
       "    </tr>\n",
       "    <tr>\n",
       "      <th>1225</th>\n",
       "      <td>0</td>\n",
       "      <td>42</td>\n",
       "      <td>49600.0</td>\n",
       "      <td>0</td>\n",
       "      <td>1</td>\n",
       "      <td>3.0</td>\n",
       "    </tr>\n",
       "    <tr>\n",
       "      <th>4031</th>\n",
       "      <td>1</td>\n",
       "      <td>44</td>\n",
       "      <td>49600.0</td>\n",
       "      <td>2</td>\n",
       "      <td>1</td>\n",
       "      <td>4.0</td>\n",
       "    </tr>\n",
       "    <tr>\n",
       "      <th>3424</th>\n",
       "      <td>0</td>\n",
       "      <td>38</td>\n",
       "      <td>49600.0</td>\n",
       "      <td>0</td>\n",
       "      <td>0</td>\n",
       "      <td>5.0</td>\n",
       "    </tr>\n",
       "  </tbody>\n",
       "</table>\n",
       "</div>"
      ],
      "text/plain": [
       "      gender  age   income  family_members  insurance_benefits  distance\n",
       "0          1   41  49600.0               1                   0       0.0\n",
       "2022       1   41  49600.0               0                   0       1.0\n",
       "1225       0   42  49600.0               0                   1       3.0\n",
       "4031       1   44  49600.0               2                   1       4.0\n",
       "3424       0   38  49600.0               0                   0       5.0"
      ]
     },
     "metadata": {},
     "output_type": "display_data"
    },
    {
     "name": "stdout",
     "output_type": "stream",
     "text": [
      "\n",
      "Scaled Data - Euclidean Distance:\n"
     ]
    },
    {
     "data": {
      "text/html": [
       "<div>\n",
       "<style scoped>\n",
       "    .dataframe tbody tr th:only-of-type {\n",
       "        vertical-align: middle;\n",
       "    }\n",
       "\n",
       "    .dataframe tbody tr th {\n",
       "        vertical-align: top;\n",
       "    }\n",
       "\n",
       "    .dataframe thead th {\n",
       "        text-align: right;\n",
       "    }\n",
       "</style>\n",
       "<table border=\"1\" class=\"dataframe\">\n",
       "  <thead>\n",
       "    <tr style=\"text-align: right;\">\n",
       "      <th></th>\n",
       "      <th>gender</th>\n",
       "      <th>age</th>\n",
       "      <th>income</th>\n",
       "      <th>family_members</th>\n",
       "      <th>insurance_benefits</th>\n",
       "      <th>distance</th>\n",
       "    </tr>\n",
       "  </thead>\n",
       "  <tbody>\n",
       "    <tr>\n",
       "      <th>0</th>\n",
       "      <td>1.0</td>\n",
       "      <td>0.630769</td>\n",
       "      <td>0.627848</td>\n",
       "      <td>0.166667</td>\n",
       "      <td>0</td>\n",
       "      <td>0.000000</td>\n",
       "    </tr>\n",
       "    <tr>\n",
       "      <th>2689</th>\n",
       "      <td>1.0</td>\n",
       "      <td>0.630769</td>\n",
       "      <td>0.634177</td>\n",
       "      <td>0.166667</td>\n",
       "      <td>0</td>\n",
       "      <td>0.006329</td>\n",
       "    </tr>\n",
       "    <tr>\n",
       "      <th>133</th>\n",
       "      <td>1.0</td>\n",
       "      <td>0.615385</td>\n",
       "      <td>0.636709</td>\n",
       "      <td>0.166667</td>\n",
       "      <td>0</td>\n",
       "      <td>0.017754</td>\n",
       "    </tr>\n",
       "    <tr>\n",
       "      <th>4869</th>\n",
       "      <td>1.0</td>\n",
       "      <td>0.646154</td>\n",
       "      <td>0.637975</td>\n",
       "      <td>0.166667</td>\n",
       "      <td>1</td>\n",
       "      <td>0.018418</td>\n",
       "    </tr>\n",
       "    <tr>\n",
       "      <th>3275</th>\n",
       "      <td>1.0</td>\n",
       "      <td>0.646154</td>\n",
       "      <td>0.651899</td>\n",
       "      <td>0.166667</td>\n",
       "      <td>1</td>\n",
       "      <td>0.028550</td>\n",
       "    </tr>\n",
       "  </tbody>\n",
       "</table>\n",
       "</div>"
      ],
      "text/plain": [
       "      gender       age    income  family_members  insurance_benefits  distance\n",
       "0        1.0  0.630769  0.627848        0.166667                   0  0.000000\n",
       "2689     1.0  0.630769  0.634177        0.166667                   0  0.006329\n",
       "133      1.0  0.615385  0.636709        0.166667                   0  0.017754\n",
       "4869     1.0  0.646154  0.637975        0.166667                   1  0.018418\n",
       "3275     1.0  0.646154  0.651899        0.166667                   1  0.028550"
      ]
     },
     "metadata": {},
     "output_type": "display_data"
    },
    {
     "name": "stdout",
     "output_type": "stream",
     "text": [
      "\n",
      "Scaled Data - Manhattan Distance:\n"
     ]
    },
    {
     "data": {
      "text/html": [
       "<div>\n",
       "<style scoped>\n",
       "    .dataframe tbody tr th:only-of-type {\n",
       "        vertical-align: middle;\n",
       "    }\n",
       "\n",
       "    .dataframe tbody tr th {\n",
       "        vertical-align: top;\n",
       "    }\n",
       "\n",
       "    .dataframe thead th {\n",
       "        text-align: right;\n",
       "    }\n",
       "</style>\n",
       "<table border=\"1\" class=\"dataframe\">\n",
       "  <thead>\n",
       "    <tr style=\"text-align: right;\">\n",
       "      <th></th>\n",
       "      <th>gender</th>\n",
       "      <th>age</th>\n",
       "      <th>income</th>\n",
       "      <th>family_members</th>\n",
       "      <th>insurance_benefits</th>\n",
       "      <th>distance</th>\n",
       "    </tr>\n",
       "  </thead>\n",
       "  <tbody>\n",
       "    <tr>\n",
       "      <th>0</th>\n",
       "      <td>1.0</td>\n",
       "      <td>0.630769</td>\n",
       "      <td>0.627848</td>\n",
       "      <td>0.166667</td>\n",
       "      <td>0</td>\n",
       "      <td>0.000000</td>\n",
       "    </tr>\n",
       "    <tr>\n",
       "      <th>2689</th>\n",
       "      <td>1.0</td>\n",
       "      <td>0.630769</td>\n",
       "      <td>0.634177</td>\n",
       "      <td>0.166667</td>\n",
       "      <td>0</td>\n",
       "      <td>0.006329</td>\n",
       "    </tr>\n",
       "    <tr>\n",
       "      <th>133</th>\n",
       "      <td>1.0</td>\n",
       "      <td>0.615385</td>\n",
       "      <td>0.636709</td>\n",
       "      <td>0.166667</td>\n",
       "      <td>0</td>\n",
       "      <td>0.024245</td>\n",
       "    </tr>\n",
       "    <tr>\n",
       "      <th>4869</th>\n",
       "      <td>1.0</td>\n",
       "      <td>0.646154</td>\n",
       "      <td>0.637975</td>\n",
       "      <td>0.166667</td>\n",
       "      <td>1</td>\n",
       "      <td>0.025511</td>\n",
       "    </tr>\n",
       "    <tr>\n",
       "      <th>3365</th>\n",
       "      <td>1.0</td>\n",
       "      <td>0.630769</td>\n",
       "      <td>0.596203</td>\n",
       "      <td>0.166667</td>\n",
       "      <td>0</td>\n",
       "      <td>0.031646</td>\n",
       "    </tr>\n",
       "  </tbody>\n",
       "</table>\n",
       "</div>"
      ],
      "text/plain": [
       "      gender       age    income  family_members  insurance_benefits  distance\n",
       "0        1.0  0.630769  0.627848        0.166667                   0  0.000000\n",
       "2689     1.0  0.630769  0.634177        0.166667                   0  0.006329\n",
       "133      1.0  0.615385  0.636709        0.166667                   0  0.024245\n",
       "4869     1.0  0.646154  0.637975        0.166667                   1  0.025511\n",
       "3365     1.0  0.630769  0.596203        0.166667                   0  0.031646"
      ]
     },
     "metadata": {},
     "output_type": "display_data"
    }
   ],
   "source": [
    "# Now test with both unscaled and scaled data\n",
    "print(\"Original customer (n=0):\")\n",
    "print(df.iloc[0][feature_names])\n",
    "\n",
    "print(\"\\nUnscaled Data - Euclidean Distance:\")\n",
    "display(get_knn(df, 0, k=5, metric='euclidean'))\n",
    "\n",
    "print(\"\\nUnscaled Data - Manhattan Distance:\")\n",
    "display(get_knn(df, 0, k=5, metric='manhattan'))\n",
    "\n",
    "print(\"\\nScaled Data - Euclidean Distance:\")\n",
    "display(get_knn(df_scaled, 0, k=5, metric='euclidean'))\n",
    "\n",
    "print(\"\\nScaled Data - Manhattan Distance:\")\n",
    "display(get_knn(df_scaled, 0, k=5, metric='manhattan'))"
   ]
  },
  {
   "cell_type": "markdown",
   "metadata": {},
   "source": [
    "**Does the data being not scaled affect the kNN algorithm? If so, how does that appear?** \n",
    "\n",
    "Yes, the unscaled data significantly affects the kNN algorithm because:\n",
    "\n",
    "1. The features are on very different scales:<br>\n",
    "    • Income is in tens of thousands<br>\n",
    "    • Age is in tens<br>\n",
    "    • Gender is binary (0/1)<br>\n",
    "    • Family members is in single digits<br><br>\n",
    "\n",
    "2. This means that in unscaled data, income dominates the distance calculations because its absolute differences are much larger than other features<br><br>\n",
    "\n",
    "3. When we scale the data, all features contribute more equally to the distance calculations, giving us more balanced neighbor matches"
   ]
  },
  {
   "cell_type": "markdown",
   "metadata": {},
   "source": [
    "**How similar are the results using the Manhattan distance metric (regardless of the scaling)?** \n",
    "\n",
    "The Manhattan distance metric gives somewhat different results compared to Euclidean because:<br>\n",
    "\n",
    "1. Manhattan distance sums the absolute differences along each dimension, while Euclidean uses squared differences<br>\n",
    "\n",
    "2. This makes Manhattan distance less sensitive to larger differences in individual features<br>\n",
    "\n",
    "3. Even with scaling, Manhattan distance tends to find slightly different neighbors because it measures distance differently (think \"city blocks\" vs \"as the crow flies\")<br>\n",
    "\n",
    "4. The results are more similar between Manhattan and Euclidean after scaling, because no single feature can dominate the distance calculation"
   ]
  },
  {
   "cell_type": "markdown",
   "metadata": {},
   "source": [
    "<div class=\"alert alert-success\" style=\"border-radius: 15px; box-shadow: 4px 4px 4px; border: 1px solid \">\n",
    "<b>   Reviewer's comment</b>\n",
    "    \n",
    "Nice :)\n",
    "</div>"
   ]
  },
  {
   "cell_type": "markdown",
   "metadata": {},
   "source": [
    "# Task 2. Is Customer Likely to Receive Insurance Benefit?"
   ]
  },
  {
   "cell_type": "markdown",
   "metadata": {},
   "source": [
    "In terms of machine learning we can look at this like a binary classification task."
   ]
  },
  {
   "cell_type": "markdown",
   "metadata": {},
   "source": [
    "With `insurance_benefits` being more than zero as the target, evaluate whether the kNN classification approach can do better than a dummy model.\n",
    "\n",
    "Instructions:\n",
    "- Build a KNN-based classifier and measure its quality with the F1 metric for k=1..10 for both the original data and the scaled one. That'd be interesting to see how k may influence the evaluation metric, and whether scaling the data makes any difference. You can use a ready implemention of the kNN classification algorithm from scikit-learn (check [the link](https://scikit-learn.org/stable/modules/generated/sklearn.neighbors.KNeighborsClassifier.html)) or use your own.\n",
    "- Build the dummy model which is just random for this case. It should return \"1\" with some probability. Let's test the model with four probability values: 0, the probability of paying any insurance benefit, 0.5, 1.\n",
    "\n",
    "The probability of paying any insurance benefit can be defined as\n",
    "\n",
    "$$\n",
    "P\\{\\text{insurance benefit received}\\}=\\frac{\\text{number of clients received any insurance benefit}}{\\text{total number of clients}}.\n",
    "$$\n",
    "\n",
    "Split the whole data in the 70:30 proportion for the training/testing parts."
   ]
  },
  {
   "cell_type": "code",
   "execution_count": 16,
   "metadata": {},
   "outputs": [
    {
     "data": {
      "text/html": [
       "<div>\n",
       "<style scoped>\n",
       "    .dataframe tbody tr th:only-of-type {\n",
       "        vertical-align: middle;\n",
       "    }\n",
       "\n",
       "    .dataframe tbody tr th {\n",
       "        vertical-align: top;\n",
       "    }\n",
       "\n",
       "    .dataframe thead th {\n",
       "        text-align: right;\n",
       "    }\n",
       "</style>\n",
       "<table border=\"1\" class=\"dataframe\">\n",
       "  <thead>\n",
       "    <tr style=\"text-align: right;\">\n",
       "      <th></th>\n",
       "      <th>gender</th>\n",
       "      <th>age</th>\n",
       "      <th>income</th>\n",
       "      <th>family_members</th>\n",
       "      <th>insurance_benefits</th>\n",
       "      <th>insurance_benefits_received</th>\n",
       "    </tr>\n",
       "  </thead>\n",
       "  <tbody>\n",
       "    <tr>\n",
       "      <th>1372</th>\n",
       "      <td>0</td>\n",
       "      <td>37</td>\n",
       "      <td>45600.0</td>\n",
       "      <td>1</td>\n",
       "      <td>0</td>\n",
       "      <td>0</td>\n",
       "    </tr>\n",
       "    <tr>\n",
       "      <th>1449</th>\n",
       "      <td>1</td>\n",
       "      <td>21</td>\n",
       "      <td>45800.0</td>\n",
       "      <td>1</td>\n",
       "      <td>0</td>\n",
       "      <td>0</td>\n",
       "    </tr>\n",
       "    <tr>\n",
       "      <th>3279</th>\n",
       "      <td>0</td>\n",
       "      <td>27</td>\n",
       "      <td>41500.0</td>\n",
       "      <td>0</td>\n",
       "      <td>0</td>\n",
       "      <td>0</td>\n",
       "    </tr>\n",
       "    <tr>\n",
       "      <th>1726</th>\n",
       "      <td>1</td>\n",
       "      <td>31</td>\n",
       "      <td>50000.0</td>\n",
       "      <td>0</td>\n",
       "      <td>0</td>\n",
       "      <td>0</td>\n",
       "    </tr>\n",
       "    <tr>\n",
       "      <th>4754</th>\n",
       "      <td>0</td>\n",
       "      <td>37</td>\n",
       "      <td>31400.0</td>\n",
       "      <td>1</td>\n",
       "      <td>0</td>\n",
       "      <td>0</td>\n",
       "    </tr>\n",
       "    <tr>\n",
       "      <th>2428</th>\n",
       "      <td>0</td>\n",
       "      <td>29</td>\n",
       "      <td>43400.0</td>\n",
       "      <td>1</td>\n",
       "      <td>0</td>\n",
       "      <td>0</td>\n",
       "    </tr>\n",
       "    <tr>\n",
       "      <th>1523</th>\n",
       "      <td>1</td>\n",
       "      <td>31</td>\n",
       "      <td>23900.0</td>\n",
       "      <td>1</td>\n",
       "      <td>0</td>\n",
       "      <td>0</td>\n",
       "    </tr>\n",
       "    <tr>\n",
       "      <th>821</th>\n",
       "      <td>0</td>\n",
       "      <td>24</td>\n",
       "      <td>41500.0</td>\n",
       "      <td>1</td>\n",
       "      <td>0</td>\n",
       "      <td>0</td>\n",
       "    </tr>\n",
       "    <tr>\n",
       "      <th>3232</th>\n",
       "      <td>0</td>\n",
       "      <td>41</td>\n",
       "      <td>24100.0</td>\n",
       "      <td>5</td>\n",
       "      <td>0</td>\n",
       "      <td>0</td>\n",
       "    </tr>\n",
       "    <tr>\n",
       "      <th>3701</th>\n",
       "      <td>1</td>\n",
       "      <td>28</td>\n",
       "      <td>58300.0</td>\n",
       "      <td>0</td>\n",
       "      <td>0</td>\n",
       "      <td>0</td>\n",
       "    </tr>\n",
       "  </tbody>\n",
       "</table>\n",
       "</div>"
      ],
      "text/plain": [
       "      gender  age   income  family_members  insurance_benefits  \\\n",
       "1372       0   37  45600.0               1                   0   \n",
       "1449       1   21  45800.0               1                   0   \n",
       "3279       0   27  41500.0               0                   0   \n",
       "1726       1   31  50000.0               0                   0   \n",
       "4754       0   37  31400.0               1                   0   \n",
       "2428       0   29  43400.0               1                   0   \n",
       "1523       1   31  23900.0               1                   0   \n",
       "821        0   24  41500.0               1                   0   \n",
       "3232       0   41  24100.0               5                   0   \n",
       "3701       1   28  58300.0               0                   0   \n",
       "\n",
       "      insurance_benefits_received  \n",
       "1372                            0  \n",
       "1449                            0  \n",
       "3279                            0  \n",
       "1726                            0  \n",
       "4754                            0  \n",
       "2428                            0  \n",
       "1523                            0  \n",
       "821                             0  \n",
       "3232                            0  \n",
       "3701                            0  "
      ]
     },
     "metadata": {},
     "output_type": "display_data"
    }
   ],
   "source": [
    "# calculate the target\n",
    "# Create binary target: 1 if customer received any benefits, 0 otherwise\n",
    "df['insurance_benefits_received'] = (df['insurance_benefits'] > 0).astype(int)\n",
    "display(df.sample(10))"
   ]
  },
  {
   "cell_type": "markdown",
   "metadata": {},
   "source": [
    "<div class=\"alert alert-success\" style=\"border-radius: 15px; box-shadow: 4px 4px 4px; border: 1px solid \">\n",
    "<b>   Reviewer's comment</b>\n",
    "    \n",
    "Correct\n",
    "</div>"
   ]
  },
  {
   "cell_type": "code",
   "execution_count": 17,
   "metadata": {},
   "outputs": [
    {
     "name": "stdout",
     "output_type": "stream",
     "text": [
      "Class distribution:\n",
      "0    4436\n",
      "1     564\n",
      "Name: insurance_benefits_received, dtype: int64\n",
      "\n",
      "Percentage distribution:\n",
      "0    0.8872\n",
      "1    0.1128\n",
      "Name: insurance_benefits_received, dtype: float64\n"
     ]
    }
   ],
   "source": [
    "# check for the class imbalance with value_counts()\n",
    "print(\"Class distribution:\")\n",
    "print(df['insurance_benefits_received'].value_counts())\n",
    "print(\"\\nPercentage distribution:\")\n",
    "print(df['insurance_benefits_received'].value_counts(normalize=True))"
   ]
  },
  {
   "cell_type": "code",
   "execution_count": 18,
   "metadata": {},
   "outputs": [
    {
     "name": "stdout",
     "output_type": "stream",
     "text": [
      "The probability: 0.00\n",
      "F1: 0.00\n",
      "Confusion Matrix\n",
      "[[0.8872 0.    ]\n",
      " [0.1128 0.    ]]\n",
      "\n",
      "The probability: 0.11\n",
      "F1: 0.12\n",
      "Confusion Matrix\n",
      "[[0.7914 0.0958]\n",
      " [0.0994 0.0134]]\n",
      "\n",
      "The probability: 0.50\n",
      "F1: 0.20\n",
      "Confusion Matrix\n",
      "[[0.456  0.4312]\n",
      " [0.053  0.0598]]\n",
      "\n",
      "The probability: 1.00\n",
      "F1: 0.20\n",
      "Confusion Matrix\n",
      "[[0.     0.8872]\n",
      " [0.     0.1128]]\n",
      "\n"
     ]
    }
   ],
   "source": [
    "# Evaluation function provided\n",
    "def eval_classifier(y_true, y_pred):\n",
    "    f1_score = sklearn.metrics.f1_score(y_true, y_pred)\n",
    "    print(f'F1: {f1_score:.2f}')\n",
    "    \n",
    "    cm = sklearn.metrics.confusion_matrix(y_true, y_pred, normalize='all')\n",
    "    print('Confusion Matrix')\n",
    "    print(cm)\n",
    "\n",
    "# Random model function provided\n",
    "def rnd_model_predict(P, size, seed=42):\n",
    "    rng = np.random.default_rng(seed=seed)\n",
    "    return rng.binomial(n=1, p=P, size=size)\n",
    "\n",
    "# Test random model with different probabilities\n",
    "for P in [0, df['insurance_benefits_received'].sum() / len(df), 0.5, 1]:\n",
    "    print(f'The probability: {P:.2f}')\n",
    "    y_pred_rnd = rnd_model_predict(P, size=len(df['insurance_benefits_received']))\n",
    "    \n",
    "    eval_classifier(df['insurance_benefits_received'], y_pred_rnd)\n",
    "    print()"
   ]
  },
  {
   "cell_type": "markdown",
   "metadata": {},
   "source": [
    "<div class=\"alert alert-warning\" style=\"border-radius: 15px; box-shadow: 4px 4px 4px; border: 1px solid \">\n",
    "<b>   Reviewer's comment </b>\n",
    "    \n",
    "Good, we could look at more metrics, like recall, precision, etc.\n",
    "\n",
    "</div>"
   ]
  },
  {
   "cell_type": "code",
   "execution_count": 19,
   "metadata": {},
   "outputs": [],
   "source": [
    "# First split the data\n",
    "X = df[feature_names]  # Features we defined earlier\n",
    "y = df['insurance_benefits_received']  # Target variable\n",
    "\n",
    "# Split into train/test sets\n",
    "X_train, X_test, y_train, y_test = train_test_split(\n",
    "    X, y, test_size=0.3, random_state=42\n",
    ")\n",
    "\n",
    "# Scale the features (using the same scaler from before)\n",
    "X_train_scaled = transformer_mas.transform(X_train)\n",
    "X_test_scaled = transformer_mas.transform(X_test)"
   ]
  },
  {
   "cell_type": "code",
   "execution_count": 20,
   "metadata": {},
   "outputs": [
    {
     "name": "stdout",
     "output_type": "stream",
     "text": [
      "Random Baseline Model with different probabilities:\n",
      "\n",
      "P = 0.00\n",
      "Precision: 0.00\n",
      "Recall: 0.00\n",
      "F1 Score: 0.00\n",
      "Specificity: 1.00\n",
      "\n",
      "Confusion Matrix\n",
      "[[0.8872 0.    ]\n",
      " [0.1128 0.    ]]\n",
      "\n",
      "P = 0.11 (actual rate of benefits)\n",
      "Precision: 0.12\n",
      "Recall: 0.12\n",
      "F1 Score: 0.12\n",
      "Specificity: 0.89\n",
      "\n",
      "Confusion Matrix\n",
      "[[0.7914 0.0958]\n",
      " [0.0994 0.0134]]\n",
      "\n",
      "P = 0.50\n",
      "Precision: 0.12\n",
      "Recall: 0.53\n",
      "F1 Score: 0.20\n",
      "Specificity: 0.51\n",
      "\n",
      "Confusion Matrix\n",
      "[[0.456  0.4312]\n",
      " [0.053  0.0598]]\n",
      "\n",
      "P = 1.00\n",
      "Precision: 0.11\n",
      "Recall: 1.00\n",
      "F1 Score: 0.20\n",
      "Specificity: 0.00\n",
      "\n",
      "Confusion Matrix\n",
      "[[0.     0.8872]\n",
      " [0.     0.1128]]\n",
      "\n",
      "Scaled kNN Model (k=5):\n",
      "Precision: 0.97\n",
      "Recall: 0.91\n",
      "F1 Score: 0.94\n",
      "Specificity: 1.00\n",
      "\n",
      "Confusion Matrix\n",
      "[[0.88933333 0.00333333]\n",
      " [0.01       0.09733333]]\n"
     ]
    }
   ],
   "source": [
    "#Enhanced evaluation function\n",
    "def eval_classifier_detailed(y_true, y_pred):\n",
    "    \"\"\"\n",
    "    Enhanced evaluation function that shows multiple classification metrics\n",
    "    \"\"\"\n",
    "    # Calculate all metrics\n",
    "    precision = sklearn.metrics.precision_score(y_true, y_pred)\n",
    "    recall = sklearn.metrics.recall_score(y_true, y_pred)\n",
    "    f1 = sklearn.metrics.f1_score(y_true, y_pred)\n",
    "    \n",
    "    # Calculate specificity (true negative rate)\n",
    "    tn, fp, fn, tp = sklearn.metrics.confusion_matrix(y_true, y_pred).ravel()\n",
    "    specificity = tn / (tn + fp)\n",
    "    \n",
    "    # Print all metrics\n",
    "    print(f'Precision: {precision:.2f}')  # Of predicted positives, how many were correct\n",
    "    print(f'Recall: {recall:.2f}')        # Of actual positives, how many were found\n",
    "    print(f'F1 Score: {f1:.2f}')          # Harmonic mean of precision and recall\n",
    "    print(f'Specificity: {specificity:.2f}')  # Of actual negatives, how many were correctly identified\n",
    "    \n",
    "    # Print confusion matrix\n",
    "    cm = sklearn.metrics.confusion_matrix(y_true, y_pred, normalize='all')\n",
    "    print('\\nConfusion Matrix')\n",
    "    print(cm)\n",
    "\n",
    "# Let's use this enhanced evaluation for both the random baseline and kNN models\n",
    "print(\"Random Baseline Model with different probabilities:\")\n",
    "print(\"\\nP = 0.00\")\n",
    "y_pred_rnd = rnd_model_predict(0, size=len(df['insurance_benefits_received']))\n",
    "eval_classifier_detailed(df['insurance_benefits_received'], y_pred_rnd)\n",
    "\n",
    "print(\"\\nP = 0.11 (actual rate of benefits)\")\n",
    "y_pred_rnd = rnd_model_predict(df['insurance_benefits_received'].sum() / len(df), \n",
    "                              size=len(df['insurance_benefits_received']))\n",
    "eval_classifier_detailed(df['insurance_benefits_received'], y_pred_rnd)\n",
    "\n",
    "print(\"\\nP = 0.50\")\n",
    "y_pred_rnd = rnd_model_predict(0.5, size=len(df['insurance_benefits_received']))\n",
    "eval_classifier_detailed(df['insurance_benefits_received'], y_pred_rnd)\n",
    "\n",
    "print(\"\\nP = 1.00\")\n",
    "y_pred_rnd = rnd_model_predict(1, size=len(df['insurance_benefits_received']))\n",
    "eval_classifier_detailed(df['insurance_benefits_received'], y_pred_rnd)\n",
    "\n",
    "# Test kNN with scaled data (using k=5 as it performed well before)\n",
    "print(\"\\nScaled kNN Model (k=5):\")\n",
    "knn = sklearn.neighbors.KNeighborsClassifier(n_neighbors=5)\n",
    "knn.fit(X_train_scaled, y_train)\n",
    "y_pred = knn.predict(X_test_scaled)\n",
    "eval_classifier_detailed(y_test, y_pred)"
   ]
  },
  {
   "cell_type": "code",
   "execution_count": 21,
   "metadata": {
    "scrolled": true
   },
   "outputs": [
    {
     "name": "stdout",
     "output_type": "stream",
     "text": [
      "Results for unscaled data:\n",
      "\n",
      "k = 1\n",
      "Precision: 0.77\n",
      "Recall: 0.57\n",
      "F1 Score: 0.65\n",
      "Specificity: 0.98\n",
      "\n",
      "Confusion Matrix\n",
      "[[0.87466667 0.018     ]\n",
      " [0.04666667 0.06066667]]\n",
      "\n",
      "k = 2\n",
      "Precision: 0.93\n",
      "Recall: 0.24\n",
      "F1 Score: 0.38\n",
      "Specificity: 1.00\n",
      "\n",
      "Confusion Matrix\n",
      "[[0.89066667 0.002     ]\n",
      " [0.082      0.02533333]]\n",
      "\n",
      "k = 3\n",
      "Precision: 0.75\n",
      "Recall: 0.26\n",
      "F1 Score: 0.39\n",
      "Specificity: 0.99\n",
      "\n",
      "Confusion Matrix\n",
      "[[0.88333333 0.00933333]\n",
      " [0.07933333 0.028     ]]\n",
      "\n",
      "k = 4\n",
      "Precision: 0.74\n",
      "Recall: 0.09\n",
      "F1 Score: 0.16\n",
      "Specificity: 1.00\n",
      "\n",
      "Confusion Matrix\n",
      "[[0.88933333 0.00333333]\n",
      " [0.098      0.00933333]]\n",
      "\n",
      "k = 5\n",
      "Precision: 0.53\n",
      "Recall: 0.10\n",
      "F1 Score: 0.17\n",
      "Specificity: 0.99\n",
      "\n",
      "Confusion Matrix\n",
      "[[0.88333333 0.00933333]\n",
      " [0.09666667 0.01066667]]\n",
      "\n",
      "k = 6\n",
      "Precision: 0.89\n",
      "Recall: 0.05\n",
      "F1 Score: 0.09\n",
      "Specificity: 1.00\n",
      "\n",
      "Confusion Matrix\n",
      "[[8.92000000e-01 6.66666667e-04]\n",
      " [1.02000000e-01 5.33333333e-03]]\n",
      "\n",
      "k = 7\n",
      "Precision: 0.83\n",
      "Recall: 0.06\n",
      "F1 Score: 0.12\n",
      "Specificity: 1.00\n",
      "\n",
      "Confusion Matrix\n",
      "[[0.89133333 0.00133333]\n",
      " [0.10066667 0.00666667]]\n",
      "\n",
      "k = 8\n",
      "Precision: 1.00\n",
      "Recall: 0.01\n",
      "F1 Score: 0.02\n",
      "Specificity: 1.00\n",
      "\n",
      "Confusion Matrix\n",
      "[[0.89266667 0.        ]\n",
      " [0.106      0.00133333]]\n",
      "\n",
      "k = 9\n",
      "Precision: 1.00\n",
      "Recall: 0.02\n",
      "F1 Score: 0.04\n",
      "Specificity: 1.00\n",
      "\n",
      "Confusion Matrix\n",
      "[[0.89266667 0.        ]\n",
      " [0.10533333 0.002     ]]\n",
      "\n",
      "k = 10\n",
      "Precision: 1.00\n",
      "Recall: 0.02\n",
      "F1 Score: 0.04\n",
      "Specificity: 1.00\n",
      "\n",
      "Confusion Matrix\n",
      "[[0.89266667 0.        ]\n",
      " [0.10533333 0.002     ]]\n",
      "\n",
      "Results for scaled data:\n",
      "\n",
      "k = 1\n",
      "Precision: 0.95\n",
      "Recall: 0.91\n",
      "F1 Score: 0.93\n",
      "Specificity: 0.99\n",
      "\n",
      "Confusion Matrix\n",
      "[[0.888      0.00466667]\n",
      " [0.00933333 0.098     ]]\n",
      "\n",
      "k = 2\n",
      "Precision: 0.98\n",
      "Recall: 0.86\n",
      "F1 Score: 0.92\n",
      "Specificity: 1.00\n",
      "\n",
      "Confusion Matrix\n",
      "[[0.89066667 0.002     ]\n",
      " [0.01466667 0.09266667]]\n",
      "\n",
      "k = 3\n",
      "Precision: 0.97\n",
      "Recall: 0.91\n",
      "F1 Score: 0.94\n",
      "Specificity: 1.00\n",
      "\n",
      "Confusion Matrix\n",
      "[[0.88933333 0.00333333]\n",
      " [0.00933333 0.098     ]]\n",
      "\n",
      "k = 4\n",
      "Precision: 0.99\n",
      "Recall: 0.85\n",
      "F1 Score: 0.91\n",
      "Specificity: 1.00\n",
      "\n",
      "Confusion Matrix\n",
      "[[0.89133333 0.00133333]\n",
      " [0.016      0.09133333]]\n",
      "\n",
      "k = 5\n",
      "Precision: 0.97\n",
      "Recall: 0.91\n",
      "F1 Score: 0.94\n",
      "Specificity: 1.00\n",
      "\n",
      "Confusion Matrix\n",
      "[[0.88933333 0.00333333]\n",
      " [0.01       0.09733333]]\n",
      "\n",
      "k = 6\n",
      "Precision: 0.99\n",
      "Recall: 0.84\n",
      "F1 Score: 0.91\n",
      "Specificity: 1.00\n",
      "\n",
      "Confusion Matrix\n",
      "[[0.89133333 0.00133333]\n",
      " [0.01666667 0.09066667]]\n",
      "\n",
      "k = 7\n",
      "Precision: 0.97\n",
      "Recall: 0.89\n",
      "F1 Score: 0.93\n",
      "Specificity: 1.00\n",
      "\n",
      "Confusion Matrix\n",
      "[[0.89       0.00266667]\n",
      " [0.012      0.09533333]]\n",
      "\n",
      "k = 8\n",
      "Precision: 0.99\n",
      "Recall: 0.84\n",
      "F1 Score: 0.91\n",
      "Specificity: 1.00\n",
      "\n",
      "Confusion Matrix\n",
      "[[8.92000000e-01 6.66666667e-04]\n",
      " [1.66666667e-02 9.06666667e-02]]\n",
      "\n",
      "k = 9\n",
      "Precision: 0.99\n",
      "Recall: 0.88\n",
      "F1 Score: 0.93\n",
      "Specificity: 1.00\n",
      "\n",
      "Confusion Matrix\n",
      "[[0.89133333 0.00133333]\n",
      " [0.01266667 0.09466667]]\n",
      "\n",
      "k = 10\n",
      "Precision: 0.99\n",
      "Recall: 0.84\n",
      "F1 Score: 0.91\n",
      "Specificity: 1.00\n",
      "\n",
      "Confusion Matrix\n",
      "[[8.92000000e-01 6.66666667e-04]\n",
      " [1.66666667e-02 9.06666667e-02]]\n"
     ]
    }
   ],
   "source": [
    "# Test kNN with different k values for both unscaled and scaled data\n",
    "print(\"Results for unscaled data:\")\n",
    "for k in range(1, 11):\n",
    "    print(f\"\\nk = {k}\")\n",
    "    # Train kNN classifier\n",
    "    knn = sklearn.neighbors.KNeighborsClassifier(n_neighbors=k)\n",
    "    knn.fit(X_train, y_train)\n",
    "    \n",
    "    # Make predictions\n",
    "    y_pred = knn.predict(X_test)\n",
    "    \n",
    "    # Evaluate using enhanced evaluation function\n",
    "    eval_classifier_detailed(y_test, y_pred)\n",
    "\n",
    "print(\"\\nResults for scaled data:\")\n",
    "for k in range(1, 11):\n",
    "    print(f\"\\nk = {k}\")\n",
    "    # Train kNN classifier\n",
    "    knn = sklearn.neighbors.KNeighborsClassifier(n_neighbors=k)\n",
    "    knn.fit(X_train_scaled, y_train)\n",
    "    \n",
    "    # Make predictions\n",
    "    y_pred = knn.predict(X_test_scaled)\n",
    "    \n",
    "    # Evaluate using enhanced evaluation function\n",
    "    eval_classifier_detailed(y_test, y_pred)"
   ]
  },
  {
   "cell_type": "markdown",
   "metadata": {},
   "source": [
    "Let's break down Task 2 and these results:\n",
    "<br>\n",
    "\n",
    "1. **What we're trying to do:**\n",
    "<br>\n",
    "- Predict whether a customer will receive insurance benefits (yes/no)\n",
    "- Compare different approaches: random guessing vs kNN classification\n",
    "- See how scaling affects multiple performance metrics\n",
    "- Find the optimal k value for kNN\n",
    "<br>\n",
    "\n",
    "2. **The Random Baseline Model:**\n",
    "<br>\n",
    "This model just flips a weighted coin, with probabilities:\n",
    "- P = 0 (always predicts \"no benefits\"): Perfect specificity but zero recall\n",
    "- P = actual rate of benefits in data: Poor performance across all metrics\n",
    "- P = 0.5 (fair coin flip): Better recall but very poor precision\n",
    "- P = 1 (always predicts \"benefits\"): Perfect recall but extremely poor precision\n",
    "<br>\n",
    "\n",
    "3. **The kNN Results:**\n",
    "<br>\n",
    "Unscaled Data:\n",
    "- Best performance at k=1:\n",
    "  * Precision: 0.76\n",
    "  * Recall: 0.57\n",
    "  * F1 Score: 0.65\n",
    "  * Specificity: 0.98\n",
    "- Performance deteriorates with higher k values\n",
    "- By k=10, achieves perfect precision (1.00) but terrible recall (0.02)\n",
    "\n",
    "Scaled Data:\n",
    "- Consistently strong performance across k values\n",
    "- Best performance at k=3 and k=5:\n",
    "  * Precision: 0.97\n",
    "  * Recall: 0.91\n",
    "  * F1 Score: 0.94\n",
    "  * Specificity: 1.00\n",
    "- Maintains good balance between precision and recall\n",
    "<br>\n",
    "\n",
    "4. **Understanding the Performance Metrics:**\n",
    "<br>\n",
    "For scaled data with k=5:\n",
    "```\n",
    "Precision: 0.97 - 97% of predicted benefits are correct\n",
    "Recall: 0.91    - Catches 91% of actual benefit cases\n",
    "F1: 0.94       - Strong balance between precision and recall\n",
    "Specificity: 1.00 - Perfect at identifying non-benefit cases\n",
    "\n",
    "Confusion Matrix:\n",
    "[[0.889   0.003]    88.9% correctly identified non-benefits\n",
    " [0.010   0.097]]   9.7% correctly identified benefits\n",
    "```\n",
    "<br>\n",
    "\n",
    "5. **Key Insights:**\n",
    "<br>\n",
    "- Scaling dramatically improves all performance metrics\n",
    "- Optimal performance achieved with k=3 or k=5 on scaled data\n",
    "- The model shows excellent precision while maintaining high recall\n",
    "- Near-perfect specificity indicates very few false positives\n",
    "- kNN significantly outperforms all random baseline approaches\n",
    "- The relatively low true positive rate (9.7%) compared to true negative rate (88.9%) suggests class imbalance might be affecting our model's performance, particularly for detecting benefit recipients. This observation leads us to explore class balancing techniques in the next section.\n",
    "<br>"
   ]
  },
  {
   "cell_type": "markdown",
   "metadata": {},
   "source": [
    "<div class=\"alert alert-success\" style=\"border-radius: 15px; box-shadow: 4px 4px 4px; border: 1px solid \">\n",
    "<b>   Reviewer's comment </b>\n",
    "    \n",
    "Nice insights!!\n",
    "\n",
    "</div>"
   ]
  },
  {
   "cell_type": "markdown",
   "metadata": {},
   "source": [
    "### We can try to correct the class imbalance with Undersampling/Oversampling or Class Weights to see if this would improve the predictions for the minority class without sacrificing the F1 score."
   ]
  },
  {
   "cell_type": "code",
   "execution_count": 22,
   "metadata": {},
   "outputs": [
    {
     "name": "stdout",
     "output_type": "stream",
     "text": [
      "Class distribution before balancing:\n",
      "Counter({0: 3097, 1: 403})\n",
      "1. Testing Undersampling:\n",
      "Precision: 0.64\n",
      "Recall: 1.00\n",
      "F1 Score: 0.78\n",
      "Specificity: 0.93\n",
      "\n",
      "Confusion Matrix\n",
      "[[0.83133333 0.06133333]\n",
      " [0.         0.10733333]]\n",
      "\n",
      "2. Testing Weighted kNN:\n",
      "Precision: 0.98\n",
      "Recall: 0.91\n",
      "F1 Score: 0.95\n",
      "Specificity: 1.00\n",
      "\n",
      "Confusion Matrix\n",
      "[[0.89066667 0.002     ]\n",
      " [0.00933333 0.098     ]]\n"
     ]
    }
   ],
   "source": [
    "# 1. Undersampling the majority class\n",
    "def undersample_majority():\n",
    "   # Separate majority and minority classes\n",
    "   df_majority = X_train[y_train == 0]\n",
    "   df_minority = X_train[y_train == 1]\n",
    "   y_majority = y_train[y_train == 0]\n",
    "   y_minority = y_train[y_train == 1]\n",
    "   \n",
    "   # Undersample majority class\n",
    "   df_majority_undersampled = resample(df_majority,\n",
    "                                     n_samples=len(df_minority),\n",
    "                                     random_state=42)\n",
    "   y_majority_undersampled = resample(y_majority,\n",
    "                                    n_samples=len(y_minority),\n",
    "                                    random_state=42)\n",
    "   \n",
    "   # Combine minority class with undersampled majority class\n",
    "   X_train_undersampled = pd.concat([df_majority_undersampled, df_minority])\n",
    "   y_train_undersampled = pd.concat([y_majority_undersampled, y_minority])\n",
    "   \n",
    "   return X_train_undersampled, y_train_undersampled\n",
    "\n",
    "# 3. Class Weights\n",
    "def train_weighted_knn(k=5):\n",
    "   # Calculate class weights inversely proportional to class frequencies\n",
    "   class_weights = dict(zip(\n",
    "       np.unique(y_train),\n",
    "       len(y_train)/(len(np.unique(y_train))*np.bincount(y_train))\n",
    "   ))\n",
    "   \n",
    "   # Create and train weighted kNN\n",
    "   knn_weighted = sklearn.neighbors.KNeighborsClassifier(\n",
    "       n_neighbors=k,\n",
    "       weights='distance'  # Use distance-based weights\n",
    "   )\n",
    "   return knn_weighted\n",
    "\n",
    "# Test both approaches\n",
    "def test_balancing_methods(k=5):\n",
    "    print(\"1. Testing Undersampling:\")\n",
    "    X_train_under, y_train_under = undersample_majority()\n",
    "    knn_under = sklearn.neighbors.KNeighborsClassifier(n_neighbors=k)\n",
    "    # Use scaled data for training and testing\n",
    "    knn_under.fit(transformer_mas.transform(X_train_under), y_train_under)\n",
    "    y_pred_under = knn_under.predict(X_test_scaled)\n",
    "    eval_classifier_detailed(y_test, y_pred_under)\n",
    "    \n",
    "    print(\"\\n2. Testing Weighted kNN:\")\n",
    "    knn_weighted = train_weighted_knn(k)\n",
    "    knn_weighted.fit(X_train_scaled, y_train)\n",
    "    y_pred_weighted = knn_weighted.predict(X_test_scaled)\n",
    "    eval_classifier_detailed(y_test, y_pred_weighted)\n",
    "    \n",
    "# Run comparison\n",
    "print(\"Class distribution before balancing:\")\n",
    "print(Counter(y_train))\n",
    "test_balancing_methods(k=5)  # Using k=5 as it performed well earlier"
   ]
  },
  {
   "cell_type": "code",
   "execution_count": 23,
   "metadata": {},
   "outputs": [
    {
     "data": {
      "image/png": "[encoded data removed]",
      "text/plain": [
       "<Figure size 1000x600 with 1 Axes>"
      ]
     },
     "metadata": {},
     "output_type": "display_data"
    },
    {
     "name": "stdout",
     "output_type": "stream",
     "text": [
      "\n",
      "AUC-ROC Scores:\n",
      "------------------------------\n",
      "Original Scaled | AUC-ROC = 0.995\n",
      "Undersampled    | AUC-ROC = 0.994\n",
      "Weighted kNN    | AUC-ROC = 0.996\n",
      "------------------------------\n"
     ]
    },
    {
     "data": {
      "image/png": "[encoded data removed]",
      "text/plain": [
       "<Figure size 1000x600 with 1 Axes>"
      ]
     },
     "metadata": {},
     "output_type": "display_data"
    }
   ],
   "source": [
    "# AUC-ROC Curves Comparison\n",
    "# 1. Original scaled kNN\n",
    "knn = sklearn.neighbors.KNeighborsClassifier(n_neighbors=5)\n",
    "knn.fit(X_train_scaled, y_train)\n",
    "\n",
    "# 2. Undersampled kNN\n",
    "X_train_under, y_train_under = undersample_majority()\n",
    "knn_under = sklearn.neighbors.KNeighborsClassifier(n_neighbors=5)\n",
    "knn_under.fit(transformer_mas.transform(X_train_under), y_train_under)\n",
    "\n",
    "# 3. Weighted kNN\n",
    "knn_weighted = train_weighted_knn(k=5)\n",
    "knn_weighted.fit(X_train_scaled, y_train)\n",
    "\n",
    "# Now let's create visualization functions\n",
    "def plot_roc_curves():\n",
    "    plt.figure(figsize=(10, 6))\n",
    "    \n",
    "    # Dictionary to store AUC-ROC scores\n",
    "    auc_roc_scores = {}\n",
    "    \n",
    "    # Original scaled kNN\n",
    "    fpr, tpr, _ = roc_curve(y_test, knn.predict_proba(X_test_scaled)[:, 1])\n",
    "    auc_roc = auc(fpr, tpr)\n",
    "    auc_roc_scores['Original Scaled'] = auc_roc\n",
    "    plt.plot(fpr, tpr, label=f'Original Scaled (AUC-ROC = {auc_roc:.2f})')\n",
    "    \n",
    "    # Undersampled kNN\n",
    "    fpr, tpr, _ = roc_curve(y_test, knn_under.predict_proba(X_test_scaled)[:, 1])\n",
    "    auc_roc = auc(fpr, tpr)\n",
    "    auc_roc_scores['Undersampled'] = auc_roc\n",
    "    plt.plot(fpr, tpr, label=f'Undersampled (AUC-ROC = {auc_roc:.2f})')\n",
    "    \n",
    "    # Weighted kNN\n",
    "    fpr, tpr, _ = roc_curve(y_test, knn_weighted.predict_proba(X_test_scaled)[:, 1])\n",
    "    auc_roc = auc(fpr, tpr)\n",
    "    auc_roc_scores['Weighted kNN'] = auc_roc\n",
    "    plt.plot(fpr, tpr, label=f'Weighted kNN (AUC-ROC = {auc_roc:.2f})')\n",
    "    \n",
    "    # Add diagonal line\n",
    "    plt.plot([0, 1], [0, 1], 'k--')\n",
    "    \n",
    "    plt.xlabel('False Positive Rate')\n",
    "    plt.ylabel('True Positive Rate')\n",
    "    plt.title('ROC Curves Comparison')\n",
    "    plt.legend()\n",
    "    plt.grid(True)\n",
    "    plt.show()\n",
    "\n",
    "    # Print AUC-ROC scores in a formatted way\n",
    "    print(\"\\nAUC-ROC Scores:\")\n",
    "    print(\"-\" * 30)\n",
    "    for model, score in auc_roc_scores.items():\n",
    "        print(f\"{model:15} | AUC-ROC = {score:.3f}\")\n",
    "    print(\"-\" * 30)\n",
    "\n",
    "def plot_pr_curves():\n",
    "    plt.figure(figsize=(10, 6))\n",
    "    \n",
    "    # Original scaled kNN\n",
    "    precision, recall, _ = precision_recall_curve(y_test, knn.predict_proba(X_test_scaled)[:, 1])\n",
    "    plt.plot(recall, precision, label='Original Scaled')\n",
    "    \n",
    "    # Undersampled kNN\n",
    "    precision, recall, _ = precision_recall_curve(y_test, knn_under.predict_proba(X_test_scaled)[:, 1])\n",
    "    plt.plot(recall, precision, label='Undersampled')\n",
    "    \n",
    "    # Weighted kNN\n",
    "    precision, recall, _ = precision_recall_curve(y_test, knn_weighted.predict_proba(X_test_scaled)[:, 1])\n",
    "    plt.plot(recall, precision, label='Weighted kNN')\n",
    "    \n",
    "    plt.xlabel('Recall')\n",
    "    plt.ylabel('Precision')\n",
    "    plt.title('Precision-Recall Curves Comparison')\n",
    "    plt.legend()\n",
    "    plt.grid(True)\n",
    "    plt.show()    \n",
    "    \n",
    "# Plot both curves\n",
    "plot_roc_curves()\n",
    "plot_pr_curves()"
   ]
  },
  {
   "cell_type": "markdown",
   "metadata": {},
   "source": [
    "Let's compare the results across all approaches:\n",
    "\n",
    "1. Original scaled (k=5):\n",
    "```\n",
    "Precision: 0.97\n",
    "Recall: 0.91\n",
    "F1: 0.94\n",
    "Specificity: 0.997\n",
    "AUC-ROC: 0.995\n",
    "[[0.889   0.003]\n",
    " [0.010   0.097]]\n",
    "```\n",
    "\n",
    "2. Undersampling:\n",
    "```\n",
    "Precision: 0.64\n",
    "Recall: 1.00\n",
    "F1: 0.78\n",
    "Specificity: 0.93\n",
    "AUC-ROC: 0.994\n",
    "[[0.831   0.061]\n",
    " [0.000   0.107]]\n",
    "```\n",
    "\n",
    "3. Weighted kNN:\n",
    "```\n",
    "Precision: 0.98\n",
    "Recall: 0.91\n",
    "F1: 0.95\n",
    "Specificity: 1.00\n",
    "AUC-ROC: 0.996\n",
    "[[0.891  0.002]\n",
    " [0.009  0.098]]\n",
    "```\n",
    "\n",
    "The enhanced metrics and ROC analysis reveal interesting trade-offs between approaches:\n",
    "\n",
    "1. Undersampling Approach:\n",
    "   * Perfect recall (1.00) - catches all positive cases\n",
    "   * Lower precision (0.64) - many false positives\n",
    "   * Reduced specificity (0.93) - worse at identifying true negatives\n",
    "   * Strong AUC-ROC (0.994) - surprisingly good overall discrimination ability\n",
    "   * Results in lower overall F1 score (0.78)\n",
    "   * Trades precision for recall by reducing majority class information\n",
    "\n",
    "2. Weighted kNN Approach:\n",
    "   * Highest precision (0.98) - very few false positives\n",
    "   * Strong recall (0.91) - catches most positive cases\n",
    "   * Perfect specificity (1.00) - excellent at identifying true negatives\n",
    "   * Best AUC-ROC (0.996) - slightly better overall classification performance\n",
    "   * Best overall F1 score (0.95)\n",
    "   * Achieves better balance across all metrics\n",
    "\n",
    "The weighted kNN emerges as the superior approach because:\n",
    "* Maintains high precision while keeping good recall\n",
    "* Achieves perfect specificity without sacrificing other metrics\n",
    "* Shows marginally better discriminative ability (AUC-ROC = 0.996)\n",
    "* Improves upon the original model's performance without losing data\n",
    "* Handles class imbalance effectively while maintaining all evaluation metrics\n",
    "\n",
    "Interestingly, while the undersampling approach shows lower performance in precision, specificity, and F1 score, its AUC-ROC score (0.994) is very competitive with the other approaches. This suggests that the model's ability to discriminate between classes remains strong, even though its default threshold leads to more false positives. However, the weighted kNN approach still edges out as the best choice as it achieves slightly better AUC-ROC while maintaining superior performance across all other metrics.\n",
    "\n",
    "The ROC analysis reveals that all three approaches have excellent discriminative ability (AUC-ROC > 0.99), but the weighted approach provides the best balance of metrics without sacrificing the original data. This makes it the most practical choice for this insurance dataset, combining robust performance with full data utilization."
   ]
  },
  {
   "cell_type": "markdown",
   "metadata": {},
   "source": [
    "<div class=\"alert alert-success\" style=\"border-radius: 15px; box-shadow: 4px 4px 4px; border: 1px solid \">\n",
    "<b>   Reviewer's comment </b>\n",
    "    \n",
    "Great work here :)\n",
    "</div>"
   ]
  },
  {
   "cell_type": "markdown",
   "metadata": {},
   "source": [
    "# Task 3. Regression (with Linear Regression)"
   ]
  },
  {
   "cell_type": "markdown",
   "metadata": {},
   "source": [
    "With `insurance_benefits` as the target, evaluate what RMSE would be for a Linear Regression model."
   ]
  },
  {
   "cell_type": "markdown",
   "metadata": {},
   "source": [
    "Build your own implementation of LR. For that, recall how the linear regression task's solution is formulated in terms of LA. Check RMSE for both the original data and the scaled one. Can you see any difference in RMSE between these two cases?\n",
    "\n",
    "Let's denote\n",
    "- $X$ — feature matrix, each row is a case, each column is a feature, the first column consists of unities\n",
    "- $y$ — target (a vector)\n",
    "- $\\hat{y}$ — estimated target (a vector)\n",
    "- $w$ — weight vector\n",
    "\n",
    "The task of linear regression in the language of matrices can be formulated as\n",
    "\n",
    "$$\n",
    "y = Xw\n",
    "$$\n",
    "\n",
    "The training objective then is to find such $w$ that it would minimize the L2-distance (MSE) between $Xw$ and $y$:\n",
    "\n",
    "$$\n",
    "\\min_w d_2(Xw, y) \\quad \\text{or} \\quad \\min_w \\text{MSE}(Xw, y)\n",
    "$$\n",
    "\n",
    "It appears that there is analytical solution for the above:\n",
    "\n",
    "$$\n",
    "w = (X^T X)^{-1} X^T y\n",
    "$$\n",
    "\n",
    "The formula above can be used to find the weights $w$ and the latter can be used to calculate predicted values\n",
    "\n",
    "$$\n",
    "\\hat{y} = X_{val}w\n",
    "$$"
   ]
  },
  {
   "cell_type": "markdown",
   "metadata": {},
   "source": [
    "Split the whole data in the 70:30 proportion for the training/validation parts. Use the RMSE metric for the model evaluation."
   ]
  },
  {
   "cell_type": "code",
   "execution_count": 24,
   "metadata": {},
   "outputs": [],
   "source": [
    "class MyLinearRegression:\n",
    "    \n",
    "    def __init__(self): \n",
    "        self.weights = None\n",
    "    \n",
    "    def fit(self, X, y):\n",
    "        # adding the unities (bias term)\n",
    "        X2 = np.append(np.ones([len(X), 1]), X, axis=1)\n",
    "        # Calculate weights using the normal equation: w = (X^T X)^(-1) X^T y\n",
    "        self.weights = np.linalg.inv(X2.T.dot(X2)).dot(X2.T).dot(y)\n",
    "        return self\n",
    "    \n",
    "    def predict(self, X):\n",
    "        # adding the unities\n",
    "        X2 = np.append(np.ones([len(X), 1]), X, axis=1)\n",
    "        # Calculate predictions using y = Xw\n",
    "        y_pred = X2.dot(self.weights)\n",
    "        return y_pred"
   ]
  },
  {
   "cell_type": "code",
   "execution_count": 25,
   "metadata": {},
   "outputs": [],
   "source": [
    "def eval_regressor(y_true, y_pred):\n",
    "    rmse = math.sqrt(sklearn.metrics.mean_squared_error(y_true, y_pred))\n",
    "    print(f'RMSE: {rmse:.2f}')\n",
    "    \n",
    "    r2 = sklearn.metrics.r2_score(y_true, y_pred)  # removed sqrt here\n",
    "    print(f'R2: {r2:.2f}')"
   ]
  },
  {
   "cell_type": "code",
   "execution_count": 26,
   "metadata": {},
   "outputs": [
    {
     "name": "stdout",
     "output_type": "stream",
     "text": [
      "Weights:\n",
      " [-9.19740784e-01  3.54081517e-02  1.84735250e-04 -3.89692232e-07\n",
      " -1.37746920e-02]\n",
      "\n",
      "Unscaled data results:\n",
      "RMSE: 0.36\n",
      "R2: 0.42\n",
      "\n",
      "Scaled data results:\n",
      "RMSE: 0.36\n",
      "R2: 0.42\n"
     ]
    }
   ],
   "source": [
    "# Prepare data\n",
    "X = df[['age', 'gender', 'income', 'family_members']].to_numpy()\n",
    "y = df['insurance_benefits'].to_numpy()\n",
    "\n",
    "# Split data\n",
    "X_train, X_test, y_train, y_test = train_test_split(X, y, test_size=0.3, random_state=42)\n",
    "\n",
    "# Create and train model\n",
    "lr = MyLinearRegression()\n",
    "lr.fit(X_train, y_train)\n",
    "print(f'Weights:\\n {lr.weights}\\n')\n",
    "\n",
    "# Make predictions and evaluate\n",
    "y_pred = lr.predict(X_test)\n",
    "print(\"Unscaled data results:\")\n",
    "eval_regressor(y_test, y_pred)\n",
    "\n",
    "# Now let's try with scaled data\n",
    "X_train_scaled = transformer_mas.transform(X_train)\n",
    "X_test_scaled = transformer_mas.transform(X_test)\n",
    "\n",
    "lr_scaled = MyLinearRegression()\n",
    "lr_scaled.fit(X_train_scaled, y_train)\n",
    "y_pred_scaled = lr_scaled.predict(X_test_scaled)\n",
    "\n",
    "print(\"\\nScaled data results:\")\n",
    "eval_regressor(y_test, y_pred_scaled)"
   ]
  },
  {
   "cell_type": "markdown",
   "metadata": {},
   "source": [
    "Let's analyze these results:\n",
    "\n",
    "1. **Weights Analysis:**<br>\n",
    "- Bias term (w0): -0.920\n",
    "- Age (w1): 0.0354\n",
    "- Gender (w2): 0.000185\n",
    "- Income (w3): -3.897e-07\n",
    "- Family members (w4): -0.0138\n",
    "\n",
    "Interpretation of weights:<br>\n",
    "- Age has the strongest positive influence\n",
    "- Family members has a small negative influence\n",
    "- Income has a very small negative influence (close to zero)\n",
    "- Gender has a very small positive influence\n",
    "- The negative bias suggests a baseline prediction below zero\n",
    "\n",
    "2. **Model Performance:**<br>\n",
    "Both scaled and unscaled data gave identical results:\n",
    "- RMSE: 0.36\n",
    "- R² = 0.42, meaning the model explains 42% of the variance in insurance benefits\n",
    "\n",
    "3. **Key Insights:**<br>\n",
    "- The model's performance is moderate (R² = 0.42)\n",
    "- Scaling made no difference to the results, which is expected for linear regression with ordinary least squares\n",
    "- The very small coefficient for income (-3.897e-07) suggests it might need transformation or have minimal predictive power\n",
    "- Age appears to be the most important predictor of insurance benefits"
   ]
  },
  {
   "cell_type": "markdown",
   "metadata": {},
   "source": [
    "### We can try to improve the Linear Regression model with feature engineering techniques like adding Polynomial Features"
   ]
  },
  {
   "cell_type": "code",
   "execution_count": 27,
   "metadata": {
    "scrolled": false
   },
   "outputs": [
    {
     "name": "stdout",
     "output_type": "stream",
     "text": [
      "Polynomial features results:\n",
      "RMSE: 510035492418.56\n",
      "R2: -1135194836956817892835328.00\n",
      "\n",
      "Scaled polynomial features results:\n",
      "RMSE: 0.18\n",
      "R2: 0.85\n",
      "\n",
      "Model Comparison:\n",
      "--------------------------------------------------\n",
      "Original Linear Regression:      R² = 0.42\n",
      "Polynomial Features:            R² = -1135194836956817892835328.00\n",
      "Scaled Polynomial Features:     R² = 0.85\n",
      "--------------------------------------------------\n"
     ]
    },
    {
     "data": {
      "image/png": "[encoded data removed]",
      "text/plain": [
       "<Figure size 1500x500 with 3 Axes>"
      ]
     },
     "metadata": {},
     "output_type": "display_data"
    }
   ],
   "source": [
    "# Original features\n",
    "feature_names = ['age', 'gender', 'income', 'family_members']\n",
    "\n",
    "# Create polynomial features (degree=2 includes original features, squares, and interactions)\n",
    "poly = PolynomialFeatures(degree=2, include_bias=False)\n",
    "X_poly = poly.fit_transform(X)\n",
    "\n",
    "# Split polynomial data\n",
    "X_train_poly, X_test_poly, y_train, y_test = train_test_split(X_poly, y, test_size=0.3, random_state=42)\n",
    "\n",
    "# Create and train model with polynomial features\n",
    "lr_poly = MyLinearRegression()\n",
    "lr_poly.fit(X_train_poly, y_train)\n",
    "\n",
    "# Make predictions and evaluate\n",
    "y_pred_poly = lr_poly.predict(X_test_poly)\n",
    "print(\"Polynomial features results:\")\n",
    "eval_regressor(y_test, y_pred_poly)\n",
    "\n",
    "# Create scaled polynomial features\n",
    "X_scaled = transformer_mas.transform(X)\n",
    "X_poly_scaled = poly.fit_transform(X_scaled)\n",
    "\n",
    "# Split scaled polynomial data\n",
    "X_train_poly_scaled, X_test_poly_scaled, y_train, y_test = train_test_split(X_poly_scaled, y, test_size=0.3, random_state=42)\n",
    "\n",
    "# Create and train model with scaled polynomial features\n",
    "lr_poly_scaled = MyLinearRegression()\n",
    "lr_poly_scaled.fit(X_train_poly_scaled, y_train)\n",
    "\n",
    "# Make predictions and evaluate\n",
    "y_pred_poly_scaled = lr_poly_scaled.predict(X_test_poly_scaled)\n",
    "print(\"\\nScaled polynomial features results:\")\n",
    "eval_regressor(y_test, y_pred_poly_scaled)\n",
    "\n",
    "# Compare all results\n",
    "print(\"\\nModel Comparison:\")\n",
    "print(\"-\" * 50)\n",
    "print(\"Original Linear Regression:      R² = 0.42\")\n",
    "print(f\"Polynomial Features:            R² = {sklearn.metrics.r2_score(y_test, y_pred_poly):.2f}\")\n",
    "print(f\"Scaled Polynomial Features:     R² = {sklearn.metrics.r2_score(y_test, y_pred_poly_scaled):.2f}\")\n",
    "print(\"-\" * 50)\n",
    "\n",
    "# Visualize residuals\n",
    "plt.figure(figsize=(15, 5))\n",
    "\n",
    "# Original model residuals\n",
    "plt.subplot(131)\n",
    "plt.scatter(y_pred, y_test - y_pred, alpha=0.5)\n",
    "plt.xlabel('Predicted Values')\n",
    "plt.ylabel('Residuals')\n",
    "plt.title('Original Model Residuals')\n",
    "plt.axhline(y=0, color='r', linestyle='--')\n",
    "\n",
    "# Polynomial model residuals\n",
    "plt.subplot(132)\n",
    "plt.scatter(y_pred_poly, y_test - y_pred_poly, alpha=0.5)\n",
    "plt.xlabel('Predicted Values')\n",
    "plt.ylabel('Residuals')\n",
    "plt.title('Polynomial Model Residuals')\n",
    "plt.axhline(y=0, color='r', linestyle='--')\n",
    "\n",
    "# Scaled polynomial model residuals\n",
    "plt.subplot(133)\n",
    "plt.scatter(y_pred_poly_scaled, y_test - y_pred_poly_scaled, alpha=0.5)\n",
    "plt.xlabel('Predicted Values')\n",
    "plt.ylabel('Residuals')\n",
    "plt.title('Scaled Polynomial Model Residuals')\n",
    "plt.axhline(y=0, color='r', linestyle='--')\n",
    "\n",
    "plt.tight_layout()\n",
    "plt.show()"
   ]
  },
  {
   "cell_type": "markdown",
   "metadata": {},
   "source": [
    "```\n",
    "Model Comparison:\n",
    "--------------------------------------------------\n",
    "Original Linear Regression:      R² = 0.42\n",
    "Polynomial Features:            R² = -10280.89\n",
    "Scaled Polynomial Features:     R² = 0.82\n",
    "--------------------------------------------------\n",
    "```\n",
    "\n",
    "1. **Model Performance Analysis:**\n",
    "   - Original linear model: Moderate performance (R² = 0.42)\n",
    "   - Unscaled polynomial features: Extremely poor performance (R² = -10280.89)\n",
    "   - Scaled polynomial features: Significant improvement (R² = 0.82)\n",
    "\n",
    "2. **Key Findings:**\n",
    "   - The unscaled polynomial model's extremely negative R² indicates severe overfitting\n",
    "   - Scaling is crucial when using polynomial features, as shown by the dramatic difference in performance\n",
    "   - The scaled polynomial model explains 82% of the variance, a substantial improvement over the original 42%\n",
    "\n",
    "3. **RMSE Comparison:**\n",
    "   - Unscaled polynomial: Very high RMSE (48.54)\n",
    "   - Scaled polynomial: Much lower RMSE (0.20)\n",
    "   - This reinforces the importance of scaling with polynomial features\n",
    "\n",
    "4. **Practical Implications:**\n",
    "   - Polynomial features can significantly improve model performance, but only when properly scaled\n",
    "   - The scaled polynomial model doubles the explained variance of the original linear model\n",
    "   - Without scaling, polynomial features can lead to numerical instability and extremely poor performance\n",
    "   - The final model (R² = 0.82) is much more reliable for predicting insurance benefits\n",
    "\n",
    "This analysis shows that feature engineering through polynomial features can substantially improve the model's predictive power, but proper scaling is absolutely critical for this improvement to be realized."
   ]
  },
  {
   "cell_type": "markdown",
   "metadata": {},
   "source": [
    "<div class=\"alert alert-success\" style=\"border-radius: 15px; box-shadow: 4px 4px 4px; border: 1px solid \">\n",
    "<b>   Reviewer's comment </b>\n",
    "    \n",
    "Correct, great work again with the insights! It's clear that you are understanding everything you do :)\n",
    "\n",
    "</div>"
   ]
  },
  {
   "cell_type": "markdown",
   "metadata": {},
   "source": [
    "# Task 4. Obfuscating Data"
   ]
  },
  {
   "cell_type": "markdown",
   "metadata": {},
   "source": [
    "It best to obfuscate data by multiplying the numerical features (remember, they can be seen as the matrix $X$) by an invertible matrix $P$. \n",
    "\n",
    "$$\n",
    "X' = X \\times P\n",
    "$$\n",
    "\n",
    "Try to do that and check how the features' values will look like after the transformation. By the way, the invertible property is important here so make sure that $P$ is indeed invertible.\n",
    "\n",
    "You may want to review the 'Matrices and Matrix Operations -> Matrix Multiplication' lesson to recall the rule of matrix multiplication and its implementation with NumPy."
   ]
  },
  {
   "cell_type": "code",
   "execution_count": 28,
   "metadata": {},
   "outputs": [],
   "source": [
    "#First, let's prepare our personal data:\n",
    "personal_info_column_list = ['gender', 'age', 'income', 'family_members']\n",
    "df_pn = df[personal_info_column_list]"
   ]
  },
  {
   "cell_type": "code",
   "execution_count": 29,
   "metadata": {},
   "outputs": [],
   "source": [
    "#Convert to numpy array:\n",
    "X = df_pn.to_numpy()"
   ]
  },
  {
   "cell_type": "markdown",
   "metadata": {},
   "source": [
    "Generating a random matrix $P$."
   ]
  },
  {
   "cell_type": "code",
   "execution_count": 30,
   "metadata": {},
   "outputs": [],
   "source": [
    "#Generate a random matrix P and check if it's invertible:\n",
    "rng = np.random.default_rng(seed=42)\n",
    "P = rng.random(size=(X.shape[1], X.shape[1]))"
   ]
  },
  {
   "cell_type": "markdown",
   "metadata": {},
   "source": [
    "Checking the matrix $P$ is invertible.\n",
    "\n",
    "Print all three cases for a few customers\n",
    "- The original data\n",
    "- The transformed one\n",
    "- The reversed (recovered) one"
   ]
  },
  {
   "cell_type": "code",
   "execution_count": 31,
   "metadata": {},
   "outputs": [
    {
     "name": "stdout",
     "output_type": "stream",
     "text": [
      "Determinant of P: 0.24339135998015463\n",
      "\n",
      "Original data (first 3 rows):\n",
      "   gender   age   income  family_members\n",
      "0     1.0  41.0  49600.0             1.0\n",
      "1     0.0  46.0  38000.0             1.0\n",
      "2     0.0  29.0  21000.0             0.0\n",
      "\n",
      "Obfuscated data (first 3 rows):\n",
      "        gender           age        income  family_members\n",
      "0  6359.715273  22380.404676  18424.090742    46000.696690\n",
      "1  4873.294065  17160.367030  14125.780761    35253.455773\n",
      "2  2693.117429   9486.397744   7808.831560    19484.860631\n",
      "\n",
      "Recovered data (first 3 rows):\n",
      "         gender   age   income  family_members\n",
      "0  1.000000e+00  41.0  49600.0    1.000000e+00\n",
      "1 -4.473636e-12  46.0  38000.0    1.000000e+00\n",
      "2 -2.515869e-12  29.0  21000.0    9.524523e-13\n",
      "\n",
      "Maximum recovery error: 2.1827872842550278e-11\n"
     ]
    }
   ],
   "source": [
    "# Check if P is invertible\n",
    "det = np.linalg.det(P)\n",
    "print(f\"Determinant of P: {det}\")  # If not 0, matrix is invertible\n",
    "\n",
    "# If det ≠ 0, we can proceed with obfuscation\n",
    "if det != 0:\n",
    "    # Transform the data\n",
    "    X_obfuscated = X.dot(P)\n",
    "    \n",
    "    # Let's look at original vs obfuscated data for a few customers\n",
    "    print(\"\\nOriginal data (first 3 rows):\")\n",
    "    print(pd.DataFrame(X[:3], columns=personal_info_column_list))\n",
    "    \n",
    "    print(\"\\nObfuscated data (first 3 rows):\")\n",
    "    print(pd.DataFrame(X_obfuscated[:3], columns=personal_info_column_list))\n",
    "    \n",
    "    # Verify we can recover original data\n",
    "    P_inverse = np.linalg.inv(P)\n",
    "    X_recovered = X_obfuscated.dot(P_inverse)\n",
    "    \n",
    "    print(\"\\nRecovered data (first 3 rows):\")\n",
    "    print(pd.DataFrame(X_recovered[:3], columns=personal_info_column_list))\n",
    "    \n",
    "    # Check recovery accuracy\n",
    "    recovery_error = np.abs(X - X_recovered).max()\n",
    "    print(f\"\\nMaximum recovery error: {recovery_error}\")\n",
    "else:\n",
    "    print(\"Generated matrix P is not invertible. Need to generate a new one.\")"
   ]
  },
  {
   "cell_type": "markdown",
   "metadata": {},
   "source": [
    "<div class=\"alert alert-warning\" style=\"border-radius: 15px; box-shadow: 4px 4px 4px; border: 1px solid \">\n",
    "<b>   Reviewer's comment </b>\n",
    "    \n",
    "Correct, if the determinant of P is different than 0, its invertible ;)\n",
    "\n",
    "</div>"
   ]
  },
  {
   "cell_type": "markdown",
   "metadata": {},
   "source": [
    "**Can you guess the customers' ages or income after the transformation?**\n",
    "\n",
    "Yes, you can recover the original data if you know P. Here's how:\n",
    "* If X' = XP\n",
    "* Then X = X'P⁻¹ (where P⁻¹ is the inverse of P)\n",
    "* This works because P is invertible"
   ]
  },
  {
   "cell_type": "markdown",
   "metadata": {},
   "source": [
    "<div class=\"alert alert-success\" style=\"border-radius: 15px; box-shadow: 4px 4px 4px; border: 1px solid \">\n",
    "<b>   Reviewer's comment </b>\n",
    "    \n",
    "Correct\n",
    "\n",
    "</div>"
   ]
  },
  {
   "cell_type": "markdown",
   "metadata": {},
   "source": [
    "**Can you recover the original data from $X'$ if you know $P$? Try to check that with calculations by moving $P$ from the right side of the formula above to the left one. The rules of matrix multiplcation are really helpful here.**\n"
   ]
  },
  {
   "cell_type": "code",
   "execution_count": 32,
   "metadata": {},
   "outputs": [
    {
     "name": "stdout",
     "output_type": "stream",
     "text": [
      "Original X (first 3 rows):\n",
      "   gender   age   income  family_members\n",
      "0     1.0  41.0  49600.0             1.0\n",
      "1     0.0  46.0  38000.0             1.0\n",
      "2     0.0  29.0  21000.0             0.0\n",
      "\n",
      "Transformed X' (first 3 rows):\n",
      "        gender           age        income  family_members\n",
      "0  6359.715273  22380.404676  18424.090742    46000.696690\n",
      "1  4873.294065  17160.367030  14125.780761    35253.455773\n",
      "2  2693.117429   9486.397744   7808.831560    19484.860631\n",
      "\n",
      "Recovered X (first 3 rows):\n",
      "         gender   age   income  family_members\n",
      "0  1.000000e+00  41.0  49600.0    1.000000e+00\n",
      "1 -4.473636e-12  46.0  38000.0    1.000000e+00\n",
      "2 -2.515869e-12  29.0  21000.0    9.524523e-13\n",
      "\n",
      "Maximum difference between original and recovered values:\n",
      "2.1827872842550278e-11\n"
     ]
    }
   ],
   "source": [
    "# Original formula: X' = XP\n",
    "# Moving P to the left side: X = X'P^(-1)\n",
    "\n",
    "# First create the transformed data\n",
    "X_transformed = X.dot(P)  # This is X'\n",
    "\n",
    "# Method 1: Using the original formula and then recovering X\n",
    "X_recovered1 = X_transformed.dot(np.linalg.inv(P))  # X = X'P^(-1)\n",
    "\n",
    "# Print results for first few rows\n",
    "print(\"Original X (first 3 rows):\")\n",
    "print(pd.DataFrame(X[:3], columns=personal_info_column_list))\n",
    "\n",
    "print(\"\\nTransformed X' (first 3 rows):\")\n",
    "print(pd.DataFrame(X_transformed[:3], columns=personal_info_column_list))\n",
    "\n",
    "print(\"\\nRecovered X (first 3 rows):\")\n",
    "print(pd.DataFrame(X_recovered1[:3], columns=personal_info_column_list))\n",
    "\n",
    "# Check the difference between original and recovered\n",
    "print(\"\\nMaximum difference between original and recovered values:\")\n",
    "print(np.abs(X - X_recovered1).max())"
   ]
  },
  {
   "cell_type": "markdown",
   "metadata": {},
   "source": [
    "**You can probably see that some values are not exactly the same as they are in the original data. What might be the reason for that?**\n",
    "\n",
    "The values aren't exactly the same due to floating-point arithmetic precision limitations in computers. When we perform multiple matrix operations (multiplication, inversion), small rounding errors accumulate because:\n",
    "\n",
    "1. Computers store decimal numbers with finite precision\n",
    "2. Matrix inversion is particularly susceptible to numerical instability\n",
    "3. Each mathematical operation (multiplication, division) introduces tiny round-off errors\n",
    "4. These small errors compound through the sequence of operations (first transforming, then recovering)\n",
    "\n",
    "For example, you might see that a value that should be exactly 41.0 might come back as 41.0000000000001 or 40.9999999999999. These differences are typically very small (often around 10⁻¹⁵) and don't affect the practical use of the transformation for data protection."
   ]
  },
  {
   "cell_type": "markdown",
   "metadata": {},
   "source": [
    "<div class=\"alert alert-success\" style=\"border-radius: 15px; box-shadow: 4px 4px 4px; border: 1px solid \">\n",
    "<b>   Reviewer's comment </b>\n",
    "    \n",
    "Correct\n",
    "\n",
    "</div>"
   ]
  },
  {
   "cell_type": "markdown",
   "metadata": {},
   "source": [
    "## Proof That Data Obfuscation Can Work with LR"
   ]
  },
  {
   "cell_type": "markdown",
   "metadata": {},
   "source": [
    "The regression task has been solved with linear regression in this project. Your next task is to prove _analytically_ that the given obfuscation method won't affect linear regression in terms of predicted values i.e. their values will remain the same. Can you believe that? Well, you don't have to, you should prove it!"
   ]
  },
  {
   "cell_type": "markdown",
   "metadata": {},
   "source": [
    "So, the data is obfuscated and there is $X \\times P$ instead of just $X$ now. Consequently, there are other weights $w_P$ as\n",
    "$$\n",
    "w = (X^T X)^{-1} X^T y \\quad \\Rightarrow \\quad w_P = [(XP)^T XP]^{-1} (XP)^T y\n",
    "$$\n",
    "\n",
    "How would $w$ and $w_P$ be linked if you simplify the formula for $w_P$ above? \n",
    "\n",
    "What would be predicted values with $w_P$? \n",
    "\n",
    "What does that mean for the quality of linear regression if you measure it with RMSE?\n",
    "\n",
    "Check Appendix B Properties of Matrices in the end of the notebook. There are useful formulas in there!\n",
    "\n",
    "No code is necessary in this section, only analytical explanation!"
   ]
  },
  {
   "cell_type": "markdown",
   "metadata": {},
   "source": [
    "**Answer**"
   ]
  },
  {
   "cell_type": "markdown",
   "metadata": {},
   "source": [
    "When we obfuscate our data by multiplying it by matrix P, we might worry that this would change our linear regression results. However, when we work through the math, we find that the new weights (w_P) are just the original weights (w) multiplied by the inverse of P (P^-1). This means that when we make predictions with the obfuscated data, these transformations cancel each other out perfectly: the P and P^-1 multiply to give us the identity matrix, resulting in exactly the same predictions as our original model. Therefore, our RMSE and other quality metrics remain unchanged, showing that we can protect our customers' data with this transformation while maintaining the exact same model performance."
   ]
  },
  {
   "cell_type": "markdown",
   "metadata": {},
   "source": [
    "**Analytical proof**"
   ]
  },
  {
   "cell_type": "markdown",
   "metadata": {},
   "source": [
    "Analytical proof step by step:\n",
    "\n",
    "1. **Link between $w$ and $w_P$**\n",
    "\n",
    "- Starting with:\n",
    "\n",
    "$ w_P = [(XP)^T XP]^{-1} (XP)^T y $\n",
    "\n",
    "- Let's substitute:\n",
    "\n",
    "$(XP)^T = P^T X^T$ (using the reversivity property)<br>\n",
    "\n",
    "$ w_P = [P^T X^T XP]^{-1} P^T X^T y$\n",
    "\n",
    "- Using the properties of inverse matrices:\n",
    "\n",
    "$(AB)^{-1} = B^{-1}A^{-1}$\n",
    "\n",
    "$ w_P = P^{-1} (X^T X)^{-1} X^T y$\n",
    "\n",
    "$ w_P = P^{-1}w$\n",
    "\n",
    "2. **Predicted values with $w_P$**\n",
    "\n",
    "Let's look at predictions for obfuscated data:\n",
    "\n",
    "$ ŷ_P = (XP)w_P $\n",
    "\n",
    "- Substitute:\n",
    "\n",
    "$w_P = P^{-1}w$\n",
    "\n",
    "$ ŷ_P = XP(P^{-1}w) $\n",
    "\n",
    "- Using associative property:\n",
    "\n",
    "$ ŷ_P = X(PP^{-1})w $\n",
    "\n",
    "Since $ PP^{-1} = I $ (identity matrix)\n",
    "\n",
    "$ ŷ_P = Xw $\n",
    "\n",
    "$ ŷ_P = ŷ $\n",
    "\n",
    "3. **Implications for RMSE**\n",
    "\n",
    "Since $ŷ_P = ŷ:$\n",
    "- The predictions are identical\n",
    "- Therefore RMSE will be identical\n",
    "- All quality metrics will be the same\n",
    "- The transformation preserves the model's performance exactly\n",
    "\n",
    "This proves that our data obfuscation method using matrix P does not affect the performance of linear regression at all, despite making the original data unrecognizable."
   ]
  },
  {
   "cell_type": "markdown",
   "metadata": {},
   "source": [
    "<div class=\"alert alert-success\" style=\"border-radius: 15px; box-shadow: 4px 4px 4px; border: 1px solid \">\n",
    "<b>   Reviewer's comment </b>\n",
    "    \n",
    "Well done, Jose! ;)\n",
    "</div>"
   ]
  },
  {
   "cell_type": "markdown",
   "metadata": {},
   "source": [
    "## Test Linear Regression With Data Obfuscation"
   ]
  },
  {
   "cell_type": "markdown",
   "metadata": {},
   "source": [
    "Now, let's prove Linear Regression can work computationally with the chosen obfuscation transformation.\n",
    "\n",
    "Build a procedure or a class that runs Linear Regression optionally with the obfuscation. You can use either a ready implementation of Linear Regression from sciki-learn or your own.\n",
    "\n",
    "Run Linear Regression for the original data and the obfuscated one, compare the predicted values and the RMSE, $R^2$ metric values. Is there any difference?"
   ]
  },
  {
   "cell_type": "markdown",
   "metadata": {},
   "source": [
    "**Procedure**\n",
    "\n",
    "- Create a square matrix $P$ of random numbers.\n",
    "- Check that it is invertible. If not, repeat the first point until we get an invertible matrix.\n",
    "- **Verify that the matrix is indeed invertible by checking its determinant**\n",
    "- Use $XP$ as the new feature matrix"
   ]
  },
  {
   "cell_type": "code",
   "execution_count": 33,
   "metadata": {},
   "outputs": [
    {
     "name": "stdout",
     "output_type": "stream",
     "text": [
      "Original data results:\n",
      "RMSE: 0.36\n",
      "R2: 0.42\n",
      "\n",
      "Obfuscated data results:\n",
      "RMSE: 0.36\n",
      "R2: 0.42\n",
      "\n",
      "Maximum difference between predictions:\n",
      "4.3694814044759056e-08\n"
     ]
    }
   ],
   "source": [
    "# Generate random invertible matrix P\n",
    "def generate_invertible_matrix(size, seed=42):\n",
    "    rng = np.random.default_rng(seed=seed)\n",
    "    while True:\n",
    "        P = rng.random(size=(size, size))\n",
    "        if np.linalg.det(P) != 0:  # Check if invertible\n",
    "            return P\n",
    "\n",
    "# Prepare data\n",
    "X = df[feature_names].to_numpy()\n",
    "y = df['insurance_benefits'].to_numpy()\n",
    "\n",
    "# Split data\n",
    "X_train, X_test, y_train, y_test = train_test_split(X, y, test_size=0.3, random_state=42)\n",
    "\n",
    "# Generate matrix P\n",
    "P = generate_invertible_matrix(X.shape[1])\n",
    "\n",
    "# Create obfuscated data\n",
    "X_train_obf = X_train.dot(P)\n",
    "X_test_obf = X_test.dot(P)\n",
    "\n",
    "# Train and evaluate original model\n",
    "print(\"Original data results:\")\n",
    "lr_original = MyLinearRegression()\n",
    "lr_original.fit(X_train, y_train)\n",
    "y_pred_original = lr_original.predict(X_test)\n",
    "eval_regressor(y_test, y_pred_original)\n",
    "\n",
    "# Train and evaluate model with obfuscated data\n",
    "print(\"\\nObfuscated data results:\")\n",
    "lr_obfuscated = MyLinearRegression()\n",
    "lr_obfuscated.fit(X_train_obf, y_train)\n",
    "y_pred_obfuscated = lr_obfuscated.predict(X_test_obf)\n",
    "eval_regressor(y_test, y_pred_obfuscated)\n",
    "\n",
    "# Check if predictions are the same\n",
    "print(\"\\nMaximum difference between predictions:\")\n",
    "print(np.abs(y_pred_original - y_pred_obfuscated).max())"
   ]
  },
  {
   "cell_type": "markdown",
   "metadata": {},
   "source": [
    "<div class=\"alert alert-success\" style=\"border-radius: 15px; box-shadow: 4px 4px 4px; border: 1px solid \">\n",
    "<b>   Reviewer's comment </b>\n",
    "    \n",
    "Correct, the values are the same ;)\n",
    "\n",
    "</div>"
   ]
  },
  {
   "cell_type": "markdown",
   "metadata": {},
   "source": [
    "## Extended Data Obfuscation Analysis\n",
    "\n",
    "### 1. Practical Implementation Challenges\n",
    "- Matrix P Generation and Storage\n",
    "  * P must be kept secure but accessible for data reconstruction\n",
    "  * Matrix size grows quadratically with number of features\n",
    "  * Numerical precision becomes critical in matrix operations\n",
    "  * Need robust error handling for matrix operations\n",
    "\n",
    "- System Integration\n",
    "  * Requires coordination between data storage and processing systems\n",
    "  * Need for consistent transformation across different data pipelines\n",
    "  * Challenge of maintaining data types and ranges after transformation\n",
    "  * Integration with existing security infrastructure\n",
    "\n",
    "### 2. Comparison with Other Privacy-Preserving Techniques\n",
    "\n",
    "| Technique | Advantages | Disadvantages |\n",
    "|-----------|------------|---------------|\n",
    "| Matrix Transformation (Current) | - Preserves relationships between features<br>- Reversible<br>- Maintains model performance | - Requires secure storage of P<br>- All-or-nothing encryption<br>- Computationally intensive |\n",
    "| Data Masking | - Simple implementation<br>- Low computational overhead | - Limited security<br>- May affect data utility |\n",
    "| Homomorphic Encryption | - Allows computations on encrypted data<br>- Very secure | - Extremely computationally intensive<br>- Complex implementation |\n",
    "| Differential Privacy | - Mathematically proven privacy guarantees<br>- Industry standard | - Reduces data accuracy<br>- Complex parameter tuning |\n",
    "\n",
    "### 3. Computational Overhead Analysis\n",
    "* Matrix Operations Cost:\n",
    "  - Matrix multiplication: O(n³) for n features\n",
    "  - Matrix inversion: O(n³) for reconstruction\n",
    "  - Storage requirements: O(n²) for transformation matrix\n",
    "\n",
    "* Performance Impact:\n",
    "  - One-time transformation cost for initial obfuscation\n",
    "  - Additional memory requirements for matrix storage\n",
    "  - Reconstruction overhead for data access\n",
    "  - Impact scales with feature count\n",
    "\n",
    "### 4. Security Implications\n",
    "Strengths:\n",
    "- Linear transformation makes original values unrecognizable\n",
    "- Multiple features combined in each transformed value\n",
    "- Maintains data structure while hiding actual values\n",
    "\n",
    "Vulnerabilities:\n",
    "- Security depends entirely on protecting matrix P\n",
    "- Susceptible to statistical analysis attacks\n",
    "- All data compromised if P is exposed\n",
    "- No partial data protection - all or nothing approach\n",
    "\n",
    "### 5. Real-World Use Cases and Limitations\n",
    "\n",
    "Suitable Use Cases:\n",
    "- Insurance companies sharing customer data for analysis\n",
    "- Healthcare providers collaborating on research\n",
    "- Financial institutions sharing transaction patterns\n",
    "- Cross-company machine learning projects\n",
    "\n",
    "Limitations:\n",
    "- All parties need access to transformation matrix\n",
    "- No granular control over data privacy\n",
    "- Complex implementation in distributed systems\n",
    "- Requires significant trust between parties\n",
    "\n",
    "### 6. Recommendations for Implementation\n",
    "\n",
    "1. Security Best Practices:\n",
    "   - Secure storage of transformation matrix\n",
    "   - Regular matrix rotation schedule\n",
    "   - Access logging and monitoring\n",
    "   - Encryption of transformed data in transit\n",
    "\n",
    "2. System Architecture:\n",
    "   - Separate storage for data and transformation matrix\n",
    "   - Automated validation of matrix properties\n",
    "   - Error handling for numerical instability\n",
    "   - Regular backup procedures\n",
    "\n",
    "3. Process Management:\n",
    "   - Clear documentation of transformation process\n",
    "   - Training for technical staff\n",
    "   - Regular security audits\n",
    "   - Incident response procedures\n",
    "\n",
    "### 7. Future Improvements\n",
    "\n",
    "Potential Enhancements:\n",
    "- Feature-specific transformation matrices\n",
    "- Integration with homomorphic encryption\n",
    "- Automated matrix generation and rotation\n",
    "- Granular access control mechanisms"
   ]
  },
  {
   "cell_type": "markdown",
   "metadata": {},
   "source": [
    "# Conclusions"
   ]
  },
  {
   "cell_type": "markdown",
   "metadata": {},
   "source": [
    "Here are the comprehensive conclusions from our insurance data analysis project:\n",
    "\n",
    "**Task 1 (Finding Similar Customers):**\n",
    "- Data scaling proved crucial for kNN performance\n",
    "- With unscaled data, high-magnitude features like income dominated distance calculations\n",
    "- The Manhattan distance gave somewhat different results compared to Euclidean, but both performed well after scaling\n",
    "- The final implementation using scaled data and Euclidean distance provided reliable customer similarity matches\n",
    "- Extensive EDA through correlation analysis and visualizations helped understand feature relationships\n",
    "\n",
    "**Task 2 (Predicting Insurance Benefits - Classification):**\n",
    "- The class imbalance in our data (more non-recipients than recipients) significantly affected model performance\n",
    "- Enhanced evaluation metrics provided deeper insights:\n",
    "    - Initial kNN classification with scaled data performed well (F1=0.94, AUC-ROC=0.995)\n",
    "    - Implementing class weighting improved performance (F1=0.95, AUC-ROC=0.996)\n",
    "    - Undersampling showed competitive discrimination ability (AUC-ROC=0.994) despite lower F1 score (0.78)\n",
    "- ROC analysis revealed excellent discriminative ability across all approaches (AUC-ROC > 0.99)\n",
    "- Both approaches outperformed random baseline models\n",
    "- Weighted kNN emerged as best choice, combining high performance with full data utilization\n",
    "\n",
    "**Task 3 (Linear Regression for Benefit Amount):**\n",
    "- Initial linear regression explained moderate variance (R²=0.42)\n",
    "- Feature engineering through polynomial features significantly improved performance:\n",
    "    - Unscaled polynomial features performed poorly (R²=-10280.89)\n",
    "    - Scaled polynomial features doubled explained variance (R²=0.82)\n",
    "- Residual analysis revealed:\n",
    "    - Original model showed systematic prediction bias\n",
    "    - Polynomial features helped capture non-linear relationships\n",
    "    - Scaling was crucial for polynomial feature stability\n",
    "- The final scaled polynomial model provides much more reliable benefit predictions\n",
    "\n",
    "**Task 4 (Data Protection):**\n",
    "- Successfully implemented data obfuscation using matrix multiplication\n",
    "- Proved both analytically and computationally that the transformation preserves model performance\n",
    "- Analyzed practical implementation considerations:\n",
    "    - Computational complexity grows with feature count (O(n³) operations)\n",
    "    - Security depends critically on protecting transformation matrix\n",
    "    - Trade-offs between different privacy-preserving techniques\n",
    "- Identified suitable use cases and limitations in real-world applications\n",
    "- Provided recommendations for secure implementation\n",
    "\n",
    "### **Overall Impact**\n",
    "The project successfully demonstrated several critical aspects of data science and machine learning implementation. Through rigorous analysis, we showed the fundamental importance of proper data preprocessing and scaling, particularly in how it affects model performance across different algorithms. The use of comprehensive model evaluation using multiple metrics provided deeper insights into model behavior and helped in making informed decisions about which approaches to use. Feature engineering, especially through polynomial features, proved vital in capturing complex relationships in the data, significantly improving our predictive capabilities. The project also effectively balanced privacy concerns with model performance, establishing practical methods for protecting sensitive customer data while maintaining analytical capabilities. The final result is a suite of reliable tools that can be used for multiple business purposes: identifying similar customers for marketing purposes, predicting the likelihood of insurance benefit claims, accurately estimating benefit amounts, and securely handling sensitive customer information. Each component was systematically improved through careful analysis and iterative refinement, resulting in a robust and practical solution for the insurance company's needs."
   ]
  },
  {
   "cell_type": "markdown",
   "metadata": {},
   "source": [
    "<div class=\"alert alert-success\" style=\"border-radius: 15px; box-shadow: 4px 4px 4px; border: 1px solid \">\n",
    "<b>   Reviewer's comment</b>\n",
    "\n",
    "You did an amazing job!! There is a just a small thing regarding the findings about the data. After adding that, I'll approve the project :)\n",
    "</div>"
   ]
  },
  {
   "cell_type": "markdown",
   "metadata": {},
   "source": [
    "# Checklist"
   ]
  },
  {
   "cell_type": "markdown",
   "metadata": {},
   "source": [
    "Type 'x' to check. Then press Shift+Enter."
   ]
  },
  {
   "cell_type": "markdown",
   "metadata": {},
   "source": [
    "- [x]  Jupyter Notebook is open\n",
    "- [x]  Code is error free\n",
    "- [x]  The cells are arranged in order of logic and execution\n",
    "- [x]  Task 1 has been performed\n",
    "    - [x]  There is the procedure that can return k similar customers for a given one\n",
    "    - [x]  The procedure is tested for all four proposed combinations\n",
    "    - [x]  The questions re the scaling/distances are answered\n",
    "- [x]  Task 2 has been performed\n",
    "    - [x]  The random classification model is built and tested for all for probability levels\n",
    "    - [x]  The kNN classification model is built and tested for both the original data and the scaled one, the F1 metric is calculated.\n",
    "- [x]  Task 3 has been performed\n",
    "    - [x]  The linear tegression solution is implemented with matrix operations.\n",
    "    - [x]  RMSE is calculated for the implemented solution.\n",
    "- [x]  Task 4 has been performed\n",
    "    - [x]  The data is obfuscated with a random and invertible matrix P\n",
    "    - [x]  The obfuscated data is recoved, few examples are printed out\n",
    "    - [x]  The analytical proof that the transformation does not affect RMSE is provided \n",
    "    - [x]  The computational proof that the transformation does not affect RMSE is provided\n",
    "- [x]  Conclusions have been made"
   ]
  },
  {
   "cell_type": "markdown",
   "metadata": {},
   "source": [
    "# Appendices \n",
    "\n",
    "## Appendix A: Writing Formulas in Jupyter Notebooks"
   ]
  },
  {
   "cell_type": "markdown",
   "metadata": {},
   "source": [
    "You can write formulas in your Jupyter Notebook in a markup language provided by a high-quality publishing system called $\\LaTeX$ (pronounced \"Lah-tech\"), and they will look like formulas in textbooks.\n",
    "\n",
    "To put a formula in a text, put the dollar sign (\\\\$) before and after the formula's text e.g. $\\frac{1}{2} \\times \\frac{3}{2} = \\frac{3}{4}$ or $y = x^2, x \\ge 1$.\n",
    "\n",
    "If a formula should be in its own paragraph, put the double dollar sign (\\\\$\\\\$) before and after the formula text e.g.\n",
    "\n",
    "$$\n",
    "\\bar{x} = \\frac{1}{n}\\sum_{i=1}^{n} x_i.\n",
    "$$\n",
    "\n",
    "The markup language of [LaTeX](https://en.wikipedia.org/wiki/LaTeX) is very popular among people who use formulas in their articles, books and texts. It can be complex but its basics are easy. Check this two page [cheatsheet](http://tug.ctan.org/info/undergradmath/undergradmath.pdf) for learning how to compose the most common formulas."
   ]
  },
  {
   "cell_type": "markdown",
   "metadata": {},
   "source": [
    "## Appendix B: Properties of Matrices"
   ]
  },
  {
   "cell_type": "markdown",
   "metadata": {},
   "source": [
    "Matrices have many properties in Linear Algebra. A few of them are listed here which can help with the analytical proof in this project."
   ]
  },
  {
   "cell_type": "markdown",
   "metadata": {},
   "source": [
    "<table>\n",
    "<tr>\n",
    "<td>Distributivity</td><td>$A(B+C)=AB+AC$</td>\n",
    "</tr>\n",
    "<tr>\n",
    "<td>Non-commutativity</td><td>$AB \\neq BA$</td>\n",
    "</tr>\n",
    "<tr>\n",
    "<td>Associative property of multiplication</td><td>$(AB)C = A(BC)$</td>\n",
    "</tr>\n",
    "<tr>\n",
    "<td>Multiplicative identity property</td><td>$IA = AI = A$</td>\n",
    "</tr>\n",
    "<tr>\n",
    "<td></td><td>$A^{-1}A = AA^{-1} = I$\n",
    "</td>\n",
    "</tr>    \n",
    "<tr>\n",
    "<td></td><td>$(AB)^{-1} = B^{-1}A^{-1}$</td>\n",
    "</tr>    \n",
    "<tr>\n",
    "<td>Reversivity of the transpose of a product of matrices,</td><td>$(AB)^T = B^TA^T$</td>\n",
    "</tr>    \n",
    "</table>"
   ]
  }
 ],
 "metadata": {
  "ExecuteTimeLog": [
   {
    "duration": 2612,
    "start_time": "2025-02-13T11:27:52.781Z"
   },
   {
    "duration": 14,
    "start_time": "2025-02-13T11:28:02.427Z"
   },
   {
    "duration": 282,
    "start_time": "2025-02-13T11:28:08.514Z"
   },
   {
    "duration": 11,
    "start_time": "2025-02-13T11:28:16.434Z"
   },
   {
    "duration": 17,
    "start_time": "2025-02-13T11:28:27.168Z"
   },
   {
    "duration": 12,
    "start_time": "2025-02-13T11:28:37.632Z"
   },
   {
    "duration": 17,
    "start_time": "2025-02-13T11:28:46.967Z"
   },
   {
    "duration": 10,
    "start_time": "2025-02-13T11:28:50.691Z"
   },
   {
    "duration": 16,
    "start_time": "2025-02-13T11:30:08.818Z"
   },
   {
    "duration": 15,
    "start_time": "2025-02-13T11:30:15.723Z"
   },
   {
    "duration": 10,
    "start_time": "2025-02-13T11:30:34.131Z"
   },
   {
    "duration": 8,
    "start_time": "2025-02-13T11:30:57.870Z"
   },
   {
    "duration": 3,
    "start_time": "2025-02-13T11:31:06.055Z"
   },
   {
    "duration": 9,
    "start_time": "2025-02-13T11:31:15.464Z"
   },
   {
    "duration": 5,
    "start_time": "2025-02-13T11:31:45.773Z"
   },
   {
    "duration": 10,
    "start_time": "2025-02-13T11:31:48.114Z"
   },
   {
    "duration": 10,
    "start_time": "2025-02-13T11:31:50.716Z"
   },
   {
    "duration": 4,
    "start_time": "2025-02-13T11:31:57.721Z"
   },
   {
    "duration": 10,
    "start_time": "2025-02-13T11:32:25.407Z"
   },
   {
    "duration": 2650,
    "start_time": "2025-02-17T14:15:33.916Z"
   },
   {
    "duration": 590,
    "start_time": "2025-02-17T14:15:36.569Z"
   },
   {
    "duration": 0,
    "start_time": "2025-02-17T14:15:37.162Z"
   },
   {
    "duration": 0,
    "start_time": "2025-02-17T14:15:37.163Z"
   },
   {
    "duration": 0,
    "start_time": "2025-02-17T14:15:37.164Z"
   },
   {
    "duration": 0,
    "start_time": "2025-02-17T14:15:37.165Z"
   },
   {
    "duration": 0,
    "start_time": "2025-02-17T14:15:37.167Z"
   },
   {
    "duration": 0,
    "start_time": "2025-02-17T14:15:37.168Z"
   },
   {
    "duration": 0,
    "start_time": "2025-02-17T14:15:37.169Z"
   },
   {
    "duration": 0,
    "start_time": "2025-02-17T14:15:37.187Z"
   },
   {
    "duration": 1,
    "start_time": "2025-02-17T14:15:37.188Z"
   },
   {
    "duration": 0,
    "start_time": "2025-02-17T14:15:37.190Z"
   },
   {
    "duration": 0,
    "start_time": "2025-02-17T14:15:37.191Z"
   },
   {
    "duration": 0,
    "start_time": "2025-02-17T14:15:37.193Z"
   },
   {
    "duration": 0,
    "start_time": "2025-02-17T14:15:37.194Z"
   },
   {
    "duration": 0,
    "start_time": "2025-02-17T14:15:37.196Z"
   },
   {
    "duration": 0,
    "start_time": "2025-02-17T14:15:37.198Z"
   },
   {
    "duration": 0,
    "start_time": "2025-02-17T14:15:37.201Z"
   },
   {
    "duration": 0,
    "start_time": "2025-02-17T14:15:37.202Z"
   },
   {
    "duration": 0,
    "start_time": "2025-02-17T14:15:37.204Z"
   },
   {
    "duration": 0,
    "start_time": "2025-02-17T14:15:37.205Z"
   },
   {
    "duration": 0,
    "start_time": "2025-02-17T14:15:37.206Z"
   },
   {
    "duration": 0,
    "start_time": "2025-02-17T14:15:37.207Z"
   },
   {
    "duration": 0,
    "start_time": "2025-02-17T14:15:37.209Z"
   },
   {
    "duration": 0,
    "start_time": "2025-02-17T14:15:37.210Z"
   },
   {
    "duration": 0,
    "start_time": "2025-02-17T14:15:37.212Z"
   },
   {
    "duration": 0,
    "start_time": "2025-02-17T14:15:37.213Z"
   },
   {
    "duration": 0,
    "start_time": "2025-02-17T14:15:37.214Z"
   },
   {
    "duration": 0,
    "start_time": "2025-02-17T14:15:37.215Z"
   },
   {
    "duration": 3338,
    "start_time": "2025-02-17T16:22:23.325Z"
   },
   {
    "duration": 29,
    "start_time": "2025-02-17T16:22:26.665Z"
   },
   {
    "duration": 5,
    "start_time": "2025-02-17T16:22:26.695Z"
   },
   {
    "duration": 26,
    "start_time": "2025-02-17T16:22:26.702Z"
   },
   {
    "duration": 3,
    "start_time": "2025-02-17T16:22:26.732Z"
   },
   {
    "duration": 9,
    "start_time": "2025-02-17T16:22:26.737Z"
   },
   {
    "duration": 20,
    "start_time": "2025-02-17T16:22:26.748Z"
   },
   {
    "duration": 5,
    "start_time": "2025-02-17T16:22:26.771Z"
   },
   {
    "duration": 3047,
    "start_time": "2025-02-17T16:22:26.778Z"
   },
   {
    "duration": 3,
    "start_time": "2025-02-17T16:22:29.827Z"
   },
   {
    "duration": 6,
    "start_time": "2025-02-17T16:22:29.832Z"
   },
   {
    "duration": 9,
    "start_time": "2025-02-17T16:22:29.839Z"
   },
   {
    "duration": 10,
    "start_time": "2025-02-17T16:22:29.850Z"
   },
   {
    "duration": 124,
    "start_time": "2025-02-17T16:22:29.864Z"
   },
   {
    "duration": 13,
    "start_time": "2025-02-17T16:22:29.990Z"
   },
   {
    "duration": 6,
    "start_time": "2025-02-17T16:22:30.025Z"
   },
   {
    "duration": 22,
    "start_time": "2025-02-17T16:22:30.034Z"
   },
   {
    "duration": 11,
    "start_time": "2025-02-17T16:22:30.058Z"
   },
   {
    "duration": 1134,
    "start_time": "2025-02-17T18:26:04.699Z"
   },
   {
    "duration": 18,
    "start_time": "2025-02-17T18:26:05.836Z"
   },
   {
    "duration": 5,
    "start_time": "2025-02-17T18:26:05.856Z"
   },
   {
    "duration": 20,
    "start_time": "2025-02-17T18:26:05.865Z"
   },
   {
    "duration": 7,
    "start_time": "2025-02-17T18:26:05.889Z"
   },
   {
    "duration": 24,
    "start_time": "2025-02-17T18:26:05.901Z"
   },
   {
    "duration": 27,
    "start_time": "2025-02-17T18:26:05.928Z"
   },
   {
    "duration": 9,
    "start_time": "2025-02-17T18:26:05.957Z"
   },
   {
    "duration": 2805,
    "start_time": "2025-02-17T18:26:05.968Z"
   },
   {
    "duration": 3,
    "start_time": "2025-02-17T18:26:08.777Z"
   },
   {
    "duration": 6,
    "start_time": "2025-02-17T18:26:08.782Z"
   },
   {
    "duration": 10,
    "start_time": "2025-02-17T18:26:08.790Z"
   },
   {
    "duration": 22,
    "start_time": "2025-02-17T18:26:08.802Z"
   },
   {
    "duration": 69,
    "start_time": "2025-02-17T18:26:08.826Z"
   },
   {
    "duration": 40,
    "start_time": "2025-02-17T18:26:08.898Z"
   },
   {
    "duration": 6,
    "start_time": "2025-02-17T18:26:08.940Z"
   },
   {
    "duration": 22,
    "start_time": "2025-02-17T18:26:08.947Z"
   },
   {
    "duration": 9,
    "start_time": "2025-02-17T18:26:08.972Z"
   },
   {
    "duration": 824,
    "start_time": "2025-02-17T18:26:08.983Z"
   },
   {
    "duration": 66,
    "start_time": "2025-02-17T18:26:09.809Z"
   },
   {
    "duration": 4,
    "start_time": "2025-02-17T18:26:09.877Z"
   },
   {
    "duration": 4,
    "start_time": "2025-02-17T18:26:09.883Z"
   },
   {
    "duration": 44,
    "start_time": "2025-02-17T18:26:09.889Z"
   },
   {
    "duration": 6,
    "start_time": "2025-02-17T18:26:09.935Z"
   },
   {
    "duration": 4,
    "start_time": "2025-02-17T18:26:09.943Z"
   },
   {
    "duration": 4,
    "start_time": "2025-02-17T18:26:09.949Z"
   },
   {
    "duration": 89,
    "start_time": "2025-02-17T18:26:09.955Z"
   },
   {
    "duration": 107,
    "start_time": "2025-02-17T18:26:10.050Z"
   },
   {
    "duration": 70,
    "start_time": "2025-02-17T18:26:10.160Z"
   },
   {
    "duration": 4,
    "start_time": "2025-02-17T18:30:39.101Z"
   },
   {
    "duration": 12,
    "start_time": "2025-02-17T18:30:39.107Z"
   },
   {
    "duration": 4,
    "start_time": "2025-02-17T18:30:39.121Z"
   },
   {
    "duration": 15,
    "start_time": "2025-02-17T18:30:39.127Z"
   },
   {
    "duration": 4,
    "start_time": "2025-02-17T18:30:39.145Z"
   },
   {
    "duration": 10,
    "start_time": "2025-02-17T18:30:39.150Z"
   },
   {
    "duration": 20,
    "start_time": "2025-02-17T18:30:39.162Z"
   },
   {
    "duration": 6,
    "start_time": "2025-02-17T18:30:39.184Z"
   },
   {
    "duration": 2872,
    "start_time": "2025-02-17T18:30:39.192Z"
   },
   {
    "duration": 3,
    "start_time": "2025-02-17T18:30:42.066Z"
   },
   {
    "duration": 5,
    "start_time": "2025-02-17T18:30:42.070Z"
   },
   {
    "duration": 10,
    "start_time": "2025-02-17T18:30:42.079Z"
   },
   {
    "duration": 10,
    "start_time": "2025-02-17T18:30:42.090Z"
   },
   {
    "duration": 109,
    "start_time": "2025-02-17T18:30:42.125Z"
   },
   {
    "duration": 11,
    "start_time": "2025-02-17T18:30:42.236Z"
   },
   {
    "duration": 6,
    "start_time": "2025-02-17T18:30:42.250Z"
   },
   {
    "duration": 27,
    "start_time": "2025-02-17T18:30:42.258Z"
   },
   {
    "duration": 38,
    "start_time": "2025-02-17T18:30:42.288Z"
   },
   {
    "duration": 723,
    "start_time": "2025-02-17T18:30:42.328Z"
   },
   {
    "duration": 113,
    "start_time": "2025-02-17T18:30:43.053Z"
   },
   {
    "duration": 8,
    "start_time": "2025-02-17T18:30:43.170Z"
   },
   {
    "duration": 6,
    "start_time": "2025-02-17T18:30:43.182Z"
   },
   {
    "duration": 52,
    "start_time": "2025-02-17T18:30:43.191Z"
   },
   {
    "duration": 11,
    "start_time": "2025-02-17T18:30:43.245Z"
   },
   {
    "duration": 4,
    "start_time": "2025-02-17T18:30:43.258Z"
   },
   {
    "duration": 6,
    "start_time": "2025-02-17T18:30:43.264Z"
   },
   {
    "duration": 86,
    "start_time": "2025-02-17T18:30:43.271Z"
   },
   {
    "duration": 89,
    "start_time": "2025-02-17T18:30:43.365Z"
   },
   {
    "duration": 73,
    "start_time": "2025-02-17T18:30:43.458Z"
   },
   {
    "duration": 2752,
    "start_time": "2025-02-20T13:21:42.410Z"
   },
   {
    "duration": 22,
    "start_time": "2025-02-20T13:21:45.164Z"
   },
   {
    "duration": 4,
    "start_time": "2025-02-20T13:21:45.188Z"
   },
   {
    "duration": 14,
    "start_time": "2025-02-20T13:21:45.195Z"
   },
   {
    "duration": 3,
    "start_time": "2025-02-20T13:21:45.211Z"
   },
   {
    "duration": 26,
    "start_time": "2025-02-20T13:21:45.216Z"
   },
   {
    "duration": 19,
    "start_time": "2025-02-20T13:21:45.244Z"
   },
   {
    "duration": 5,
    "start_time": "2025-02-20T13:21:45.265Z"
   },
   {
    "duration": 2675,
    "start_time": "2025-02-20T13:21:45.272Z"
   },
   {
    "duration": 980,
    "start_time": "2025-02-20T13:21:47.951Z"
   },
   {
    "duration": 2,
    "start_time": "2025-02-20T13:21:48.933Z"
   },
   {
    "duration": 9,
    "start_time": "2025-02-20T13:21:48.942Z"
   },
   {
    "duration": 9,
    "start_time": "2025-02-20T13:21:48.953Z"
   },
   {
    "duration": 8,
    "start_time": "2025-02-20T13:21:48.963Z"
   },
   {
    "duration": 110,
    "start_time": "2025-02-20T13:21:48.972Z"
   },
   {
    "duration": 19,
    "start_time": "2025-02-20T13:21:49.084Z"
   },
   {
    "duration": 7,
    "start_time": "2025-02-20T13:21:49.105Z"
   },
   {
    "duration": 34,
    "start_time": "2025-02-20T13:21:49.115Z"
   },
   {
    "duration": 9,
    "start_time": "2025-02-20T13:21:49.151Z"
   },
   {
    "duration": 108,
    "start_time": "2025-02-20T13:21:49.162Z"
   },
   {
    "duration": 733,
    "start_time": "2025-02-20T13:21:49.273Z"
   },
   {
    "duration": 85,
    "start_time": "2025-02-20T13:21:50.008Z"
   },
   {
    "duration": 475,
    "start_time": "2025-02-20T13:21:50.096Z"
   },
   {
    "duration": 0,
    "start_time": "2025-02-20T13:21:50.573Z"
   },
   {
    "duration": 0,
    "start_time": "2025-02-20T13:21:50.575Z"
   },
   {
    "duration": 0,
    "start_time": "2025-02-20T13:21:50.576Z"
   },
   {
    "duration": 0,
    "start_time": "2025-02-20T13:21:50.577Z"
   },
   {
    "duration": 0,
    "start_time": "2025-02-20T13:21:50.578Z"
   },
   {
    "duration": 0,
    "start_time": "2025-02-20T13:21:50.579Z"
   },
   {
    "duration": 0,
    "start_time": "2025-02-20T13:21:50.581Z"
   },
   {
    "duration": 0,
    "start_time": "2025-02-20T13:21:50.582Z"
   },
   {
    "duration": 0,
    "start_time": "2025-02-20T13:21:50.583Z"
   },
   {
    "duration": 0,
    "start_time": "2025-02-20T13:21:50.584Z"
   },
   {
    "duration": 4,
    "start_time": "2025-02-20T13:22:51.982Z"
   },
   {
    "duration": 13,
    "start_time": "2025-02-20T13:22:51.988Z"
   },
   {
    "duration": 3,
    "start_time": "2025-02-20T13:22:52.003Z"
   },
   {
    "duration": 13,
    "start_time": "2025-02-20T13:22:52.008Z"
   },
   {
    "duration": 3,
    "start_time": "2025-02-20T13:22:52.022Z"
   },
   {
    "duration": 7,
    "start_time": "2025-02-20T13:22:52.027Z"
   },
   {
    "duration": 17,
    "start_time": "2025-02-20T13:22:52.036Z"
   },
   {
    "duration": 4,
    "start_time": "2025-02-20T13:22:52.055Z"
   },
   {
    "duration": 2539,
    "start_time": "2025-02-20T13:22:52.061Z"
   },
   {
    "duration": 980,
    "start_time": "2025-02-20T13:22:54.603Z"
   },
   {
    "duration": 2,
    "start_time": "2025-02-20T13:22:55.587Z"
   },
   {
    "duration": 5,
    "start_time": "2025-02-20T13:22:55.591Z"
   },
   {
    "duration": 9,
    "start_time": "2025-02-20T13:22:55.597Z"
   },
   {
    "duration": 7,
    "start_time": "2025-02-20T13:22:55.607Z"
   },
   {
    "duration": 84,
    "start_time": "2025-02-20T13:22:55.616Z"
   },
   {
    "duration": 11,
    "start_time": "2025-02-20T13:22:55.702Z"
   },
   {
    "duration": 5,
    "start_time": "2025-02-20T13:22:55.714Z"
   },
   {
    "duration": 41,
    "start_time": "2025-02-20T13:22:55.721Z"
   },
   {
    "duration": 8,
    "start_time": "2025-02-20T13:22:55.764Z"
   },
   {
    "duration": 101,
    "start_time": "2025-02-20T13:22:55.773Z"
   },
   {
    "duration": 702,
    "start_time": "2025-02-20T13:22:55.875Z"
   },
   {
    "duration": 68,
    "start_time": "2025-02-20T13:22:56.579Z"
   },
   {
    "duration": 197,
    "start_time": "2025-02-20T13:22:56.648Z"
   },
   {
    "duration": 4,
    "start_time": "2025-02-20T13:22:56.847Z"
   },
   {
    "duration": 4,
    "start_time": "2025-02-20T13:22:56.853Z"
   },
   {
    "duration": 8,
    "start_time": "2025-02-20T13:22:56.859Z"
   },
   {
    "duration": 628,
    "start_time": "2025-02-20T13:22:56.869Z"
   },
   {
    "duration": 3,
    "start_time": "2025-02-20T13:22:57.499Z"
   },
   {
    "duration": 2,
    "start_time": "2025-02-20T13:22:57.507Z"
   },
   {
    "duration": 3,
    "start_time": "2025-02-20T13:22:57.511Z"
   },
   {
    "duration": 33,
    "start_time": "2025-02-20T13:22:57.516Z"
   },
   {
    "duration": 14,
    "start_time": "2025-02-20T13:22:57.550Z"
   },
   {
    "duration": 81,
    "start_time": "2025-02-20T13:22:57.566Z"
   },
   {
    "duration": 180,
    "start_time": "2025-02-22T23:46:23.574Z"
   },
   {
    "duration": 2668,
    "start_time": "2025-02-22T23:46:33.626Z"
   },
   {
    "duration": 19,
    "start_time": "2025-02-22T23:46:36.297Z"
   },
   {
    "duration": 4,
    "start_time": "2025-02-22T23:46:36.317Z"
   },
   {
    "duration": 14,
    "start_time": "2025-02-22T23:46:36.322Z"
   },
   {
    "duration": 3,
    "start_time": "2025-02-22T23:46:36.339Z"
   },
   {
    "duration": 6,
    "start_time": "2025-02-22T23:46:36.344Z"
   },
   {
    "duration": 17,
    "start_time": "2025-02-22T23:46:36.351Z"
   },
   {
    "duration": 5,
    "start_time": "2025-02-22T23:46:36.369Z"
   },
   {
    "duration": 2678,
    "start_time": "2025-02-22T23:46:36.376Z"
   },
   {
    "duration": 975,
    "start_time": "2025-02-22T23:46:39.055Z"
   },
   {
    "duration": 4,
    "start_time": "2025-02-22T23:46:40.032Z"
   },
   {
    "duration": 3,
    "start_time": "2025-02-22T23:46:40.038Z"
   },
   {
    "duration": 8,
    "start_time": "2025-02-22T23:46:40.043Z"
   },
   {
    "duration": 7,
    "start_time": "2025-02-22T23:46:40.055Z"
   },
   {
    "duration": 90,
    "start_time": "2025-02-22T23:46:40.064Z"
   },
   {
    "duration": 9,
    "start_time": "2025-02-22T23:46:40.156Z"
   },
   {
    "duration": 6,
    "start_time": "2025-02-22T23:46:40.166Z"
   },
   {
    "duration": 48,
    "start_time": "2025-02-22T23:46:40.173Z"
   },
   {
    "duration": 8,
    "start_time": "2025-02-22T23:46:40.223Z"
   },
   {
    "duration": 93,
    "start_time": "2025-02-22T23:46:40.233Z"
   },
   {
    "duration": 745,
    "start_time": "2025-02-22T23:46:40.327Z"
   },
   {
    "duration": 68,
    "start_time": "2025-02-22T23:46:41.073Z"
   },
   {
    "duration": 199,
    "start_time": "2025-02-22T23:46:41.142Z"
   },
   {
    "duration": 4,
    "start_time": "2025-02-22T23:46:41.343Z"
   },
   {
    "duration": 5,
    "start_time": "2025-02-22T23:46:41.348Z"
   },
   {
    "duration": 53,
    "start_time": "2025-02-22T23:46:41.354Z"
   },
   {
    "duration": 659,
    "start_time": "2025-02-22T23:46:41.409Z"
   },
   {
    "duration": 3,
    "start_time": "2025-02-22T23:46:42.071Z"
   },
   {
    "duration": 4,
    "start_time": "2025-02-22T23:46:42.076Z"
   },
   {
    "duration": 23,
    "start_time": "2025-02-22T23:46:42.082Z"
   },
   {
    "duration": 15,
    "start_time": "2025-02-22T23:46:42.107Z"
   },
   {
    "duration": 82,
    "start_time": "2025-02-22T23:46:42.124Z"
   },
   {
    "duration": 11,
    "start_time": "2025-02-22T23:46:42.209Z"
   },
   {
    "duration": 306,
    "start_time": "2025-02-22T23:55:53.404Z"
   },
   {
    "duration": 956,
    "start_time": "2025-02-22T23:56:04.846Z"
   },
   {
    "duration": 13,
    "start_time": "2025-02-22T23:56:05.805Z"
   },
   {
    "duration": 3,
    "start_time": "2025-02-22T23:56:05.820Z"
   },
   {
    "duration": 13,
    "start_time": "2025-02-22T23:56:05.826Z"
   },
   {
    "duration": 3,
    "start_time": "2025-02-22T23:56:05.840Z"
   },
   {
    "duration": 7,
    "start_time": "2025-02-22T23:56:05.845Z"
   },
   {
    "duration": 52,
    "start_time": "2025-02-22T23:56:05.853Z"
   },
   {
    "duration": 6,
    "start_time": "2025-02-22T23:56:05.907Z"
   },
   {
    "duration": 2576,
    "start_time": "2025-02-22T23:56:05.914Z"
   },
   {
    "duration": 850,
    "start_time": "2025-02-22T23:56:08.493Z"
   },
   {
    "duration": 3,
    "start_time": "2025-02-22T23:56:09.345Z"
   },
   {
    "duration": 5,
    "start_time": "2025-02-22T23:56:09.349Z"
   },
   {
    "duration": 9,
    "start_time": "2025-02-22T23:56:09.355Z"
   },
   {
    "duration": 7,
    "start_time": "2025-02-22T23:56:09.366Z"
   },
   {
    "duration": 90,
    "start_time": "2025-02-22T23:56:09.375Z"
   },
   {
    "duration": 9,
    "start_time": "2025-02-22T23:56:09.467Z"
   },
   {
    "duration": 4,
    "start_time": "2025-02-22T23:56:09.477Z"
   },
   {
    "duration": 42,
    "start_time": "2025-02-22T23:56:09.483Z"
   },
   {
    "duration": 9,
    "start_time": "2025-02-22T23:56:09.528Z"
   },
   {
    "duration": 106,
    "start_time": "2025-02-22T23:56:09.539Z"
   },
   {
    "duration": 745,
    "start_time": "2025-02-22T23:56:09.647Z"
   },
   {
    "duration": 70,
    "start_time": "2025-02-22T23:56:10.394Z"
   },
   {
    "duration": 367,
    "start_time": "2025-02-22T23:56:10.466Z"
   },
   {
    "duration": 4,
    "start_time": "2025-02-22T23:56:10.835Z"
   },
   {
    "duration": 4,
    "start_time": "2025-02-22T23:56:10.841Z"
   },
   {
    "duration": 10,
    "start_time": "2025-02-22T23:56:10.847Z"
   },
   {
    "duration": 690,
    "start_time": "2025-02-22T23:56:10.858Z"
   },
   {
    "duration": 4,
    "start_time": "2025-02-22T23:56:11.553Z"
   },
   {
    "duration": 3,
    "start_time": "2025-02-22T23:56:11.559Z"
   },
   {
    "duration": 4,
    "start_time": "2025-02-22T23:56:11.564Z"
   },
   {
    "duration": 37,
    "start_time": "2025-02-22T23:56:11.570Z"
   },
   {
    "duration": 13,
    "start_time": "2025-02-22T23:56:11.612Z"
   },
   {
    "duration": 85,
    "start_time": "2025-02-22T23:56:11.627Z"
   }
  ],
  "kernelspec": {
   "display_name": "Python 3 (ipykernel)",
   "language": "python",
   "name": "python3"
  },
  "language_info": {
   "codemirror_mode": {
    "name": "ipython",
    "version": 3
   },
   "file_extension": ".py",
   "mimetype": "text/x-python",
   "name": "python",
   "nbconvert_exporter": "python",
   "pygments_lexer": "ipython3",
   "version": "3.9.19"
  },
  "toc": {
   "base_numbering": 1,
   "nav_menu": {},
   "number_sections": true,
   "sideBar": true,
   "skip_h1_title": true,
   "title_cell": "Table of Contents",
   "title_sidebar": "Contents",
   "toc_cell": false,
   "toc_position": {},
   "toc_section_display": true,
   "toc_window_display": false
  }
 },
 "nbformat": 4,
 "nbformat_minor": 4
}
